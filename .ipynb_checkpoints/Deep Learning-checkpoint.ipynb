{
 "cells": [
  {
   "cell_type": "code",
   "execution_count": 1,
   "metadata": {
    "executionInfo": {
     "elapsed": 572,
     "status": "ok",
     "timestamp": 1646035738590,
     "user": {
      "displayName": "Fazlullah Bokhari",
      "photoUrl": "https://lh3.googleusercontent.com/a-/AOh14Gipq_QgeUq_pWM5JfrIi8EPz81aivJwQNauOq0I1w=s64",
      "userId": "18027421437445643378"
     },
     "user_tz": -330
    },
    "id": "heMQpKnkuKPY"
   },
   "outputs": [],
   "source": [
    "import os\n",
    "root = \"/content/drive/MyDrive/Deep Learning\"\n",
    "os.chdir(root)"
   ]
  },
  {
   "cell_type": "code",
   "execution_count": 2,
   "metadata": {
    "colab": {
     "base_uri": "https://localhost:8080/"
    },
    "executionInfo": {
     "elapsed": 21,
     "status": "ok",
     "timestamp": 1646035738592,
     "user": {
      "displayName": "Fazlullah Bokhari",
      "photoUrl": "https://lh3.googleusercontent.com/a-/AOh14Gipq_QgeUq_pWM5JfrIi8EPz81aivJwQNauOq0I1w=s64",
      "userId": "18027421437445643378"
     },
     "user_tz": -330
    },
    "id": "6gg7jC2avoZ2",
    "outputId": "f4c6da7f-5840-4987-a670-59b9e4fa608f"
   },
   "outputs": [
    {
     "data": {
      "text/plain": [
       "['Deep Learning.ipynb', 'logs', 'Callbacks in Deep Learning.ipynb']"
      ]
     },
     "execution_count": 2,
     "metadata": {},
     "output_type": "execute_result"
    }
   ],
   "source": [
    "os.listdir()"
   ]
  },
  {
   "cell_type": "code",
   "execution_count": 3,
   "metadata": {
    "executionInfo": {
     "elapsed": 2691,
     "status": "ok",
     "timestamp": 1646035741268,
     "user": {
      "displayName": "Fazlullah Bokhari",
      "photoUrl": "https://lh3.googleusercontent.com/a-/AOh14Gipq_QgeUq_pWM5JfrIi8EPz81aivJwQNauOq0I1w=s64",
      "userId": "18027421437445643378"
     },
     "user_tz": -330
    },
    "id": "Tg7wg-sVvu3q"
   },
   "outputs": [],
   "source": [
    "import tensorflow as tf"
   ]
  },
  {
   "cell_type": "code",
   "execution_count": 4,
   "metadata": {
    "colab": {
     "base_uri": "https://localhost:8080/",
     "height": 35
    },
    "executionInfo": {
     "elapsed": 46,
     "status": "ok",
     "timestamp": 1646035741273,
     "user": {
      "displayName": "Fazlullah Bokhari",
      "photoUrl": "https://lh3.googleusercontent.com/a-/AOh14Gipq_QgeUq_pWM5JfrIi8EPz81aivJwQNauOq0I1w=s64",
      "userId": "18027421437445643378"
     },
     "user_tz": -330
    },
    "id": "uruNCcj0v4Qa",
    "outputId": "7de863a8-b5bb-4e92-9d39-4f0d3e28e069"
   },
   "outputs": [
    {
     "data": {
      "application/vnd.google.colaboratory.intrinsic+json": {
       "type": "string"
      },
      "text/plain": [
       "'2.8.0'"
      ]
     },
     "execution_count": 4,
     "metadata": {},
     "output_type": "execute_result"
    }
   ],
   "source": [
    "tf.__version__"
   ]
  },
  {
   "cell_type": "code",
   "execution_count": 5,
   "metadata": {
    "colab": {
     "base_uri": "https://localhost:8080/",
     "height": 35
    },
    "executionInfo": {
     "elapsed": 47,
     "status": "ok",
     "timestamp": 1646035741282,
     "user": {
      "displayName": "Fazlullah Bokhari",
      "photoUrl": "https://lh3.googleusercontent.com/a-/AOh14Gipq_QgeUq_pWM5JfrIi8EPz81aivJwQNauOq0I1w=s64",
      "userId": "18027421437445643378"
     },
     "user_tz": -330
    },
    "id": "nsqczj6cv8NC",
    "outputId": "b849b8fd-5c4c-4faf-f33e-54b14e663bb0"
   },
   "outputs": [
    {
     "data": {
      "application/vnd.google.colaboratory.intrinsic+json": {
       "type": "string"
      },
      "text/plain": [
       "'2.8.0'"
      ]
     },
     "execution_count": 5,
     "metadata": {},
     "output_type": "execute_result"
    }
   ],
   "source": [
    "tf.keras.__version__"
   ]
  },
  {
   "cell_type": "code",
   "execution_count": 6,
   "metadata": {
    "colab": {
     "base_uri": "https://localhost:8080/"
    },
    "executionInfo": {
     "elapsed": 25,
     "status": "ok",
     "timestamp": 1646035742080,
     "user": {
      "displayName": "Fazlullah Bokhari",
      "photoUrl": "https://lh3.googleusercontent.com/a-/AOh14Gipq_QgeUq_pWM5JfrIi8EPz81aivJwQNauOq0I1w=s64",
      "userId": "18027421437445643378"
     },
     "user_tz": -330
    },
    "id": "uotMCk2RwKuT",
    "outputId": "7fd3aafa-d7c5-4e94-800c-6b3f5fd39a53"
   },
   "outputs": [
    {
     "data": {
      "text/plain": [
       "[PhysicalDevice(name='/physical_device:GPU:0', device_type='GPU')]"
      ]
     },
     "execution_count": 6,
     "metadata": {},
     "output_type": "execute_result"
    }
   ],
   "source": [
    "tf.config.list_physical_devices(\"GPU\")"
   ]
  },
  {
   "cell_type": "markdown",
   "metadata": {
    "id": "d9kNZezFw9d2"
   },
   "source": [
    "## A simple classifier using keras.s sequential API"
   ]
  },
  {
   "cell_type": "markdown",
   "metadata": {
    "id": "bCK9OizsxLYC"
   },
   "source": [
    "## Dataset MNIST\n",
    "* its a dataset of handwritten digits\n",
    "* each data point it 2d array of 28x28\n",
    "* It has 10 classes 0-9\n",
    "* Also known as aka hello world of ANN"
   ]
  },
  {
   "cell_type": "code",
   "execution_count": 7,
   "metadata": {
    "executionInfo": {
     "elapsed": 20,
     "status": "ok",
     "timestamp": 1646035742081,
     "user": {
      "displayName": "Fazlullah Bokhari",
      "photoUrl": "https://lh3.googleusercontent.com/a-/AOh14Gipq_QgeUq_pWM5JfrIi8EPz81aivJwQNauOq0I1w=s64",
      "userId": "18027421437445643378"
     },
     "user_tz": -330
    },
    "id": "C-m1aCxZwTYC"
   },
   "outputs": [],
   "source": [
    "import numpy as np\n",
    "import matplotlib.pyplot as plt\n",
    "import pandas as pd\n",
    "import tensorflow as tf\n",
    "import os"
   ]
  },
  {
   "cell_type": "code",
   "execution_count": 8,
   "metadata": {
    "colab": {
     "base_uri": "https://localhost:8080/"
    },
    "executionInfo": {
     "elapsed": 937,
     "status": "ok",
     "timestamp": 1646035743000,
     "user": {
      "displayName": "Fazlullah Bokhari",
      "photoUrl": "https://lh3.googleusercontent.com/a-/AOh14Gipq_QgeUq_pWM5JfrIi8EPz81aivJwQNauOq0I1w=s64",
      "userId": "18027421437445643378"
     },
     "user_tz": -330
    },
    "id": "ni2lhFpWw4PL",
    "outputId": "ddfc30c7-d974-4f2d-e120-3774067a1b2c"
   },
   "outputs": [
    {
     "name": "stdout",
     "output_type": "stream",
     "text": [
      "Downloading data from https://storage.googleapis.com/tensorflow/tf-keras-datasets/mnist.npz\n",
      "11493376/11490434 [==============================] - 0s 0us/step\n",
      "11501568/11490434 [==============================] - 0s 0us/step\n"
     ]
    }
   ],
   "source": [
    "mnist = tf.keras.datasets.mnist\n",
    "(X_train_full, y_train_full), (x_test, y_test) = mnist.load_data()"
   ]
  },
  {
   "cell_type": "code",
   "execution_count": 9,
   "metadata": {
    "colab": {
     "base_uri": "https://localhost:8080/"
    },
    "executionInfo": {
     "elapsed": 25,
     "status": "ok",
     "timestamp": 1646035743003,
     "user": {
      "displayName": "Fazlullah Bokhari",
      "photoUrl": "https://lh3.googleusercontent.com/a-/AOh14Gipq_QgeUq_pWM5JfrIi8EPz81aivJwQNauOq0I1w=s64",
      "userId": "18027421437445643378"
     },
     "user_tz": -330
    },
    "id": "1pt-XOSPynJK",
    "outputId": "3b86e883-4195-47f6-b5a6-bddad847d58b"
   },
   "outputs": [
    {
     "data": {
      "text/plain": [
       "((60000, 28, 28), dtype('uint8'))"
      ]
     },
     "execution_count": 9,
     "metadata": {},
     "output_type": "execute_result"
    }
   ],
   "source": [
    "X_train_full.shape, X_train_full.dtype"
   ]
  },
  {
   "cell_type": "code",
   "execution_count": 10,
   "metadata": {
    "colab": {
     "base_uri": "https://localhost:8080/"
    },
    "executionInfo": {
     "elapsed": 23,
     "status": "ok",
     "timestamp": 1646035743004,
     "user": {
      "displayName": "Fazlullah Bokhari",
      "photoUrl": "https://lh3.googleusercontent.com/a-/AOh14Gipq_QgeUq_pWM5JfrIi8EPz81aivJwQNauOq0I1w=s64",
      "userId": "18027421437445643378"
     },
     "user_tz": -330
    },
    "id": "IZlaGkldyyHD",
    "outputId": "1ab55ece-8412-4a52-8413-5ca8db7eddac"
   },
   "outputs": [
    {
     "data": {
      "text/plain": [
       "((10000, 28, 28), dtype('uint8'))"
      ]
     },
     "execution_count": 10,
     "metadata": {},
     "output_type": "execute_result"
    }
   ],
   "source": [
    "x_test.shape, x_test.dtype"
   ]
  },
  {
   "cell_type": "code",
   "execution_count": 11,
   "metadata": {
    "colab": {
     "base_uri": "https://localhost:8080/"
    },
    "executionInfo": {
     "elapsed": 21,
     "status": "ok",
     "timestamp": 1646035743005,
     "user": {
      "displayName": "Fazlullah Bokhari",
      "photoUrl": "https://lh3.googleusercontent.com/a-/AOh14Gipq_QgeUq_pWM5JfrIi8EPz81aivJwQNauOq0I1w=s64",
      "userId": "18027421437445643378"
     },
     "user_tz": -330
    },
    "id": "BH3fwd2Jy-qL",
    "outputId": "e02f085f-71fd-4930-d53d-9f32ee8f08b9"
   },
   "outputs": [
    {
     "data": {
      "text/plain": [
       "((60000,), dtype('uint8'))"
      ]
     },
     "execution_count": 11,
     "metadata": {},
     "output_type": "execute_result"
    }
   ],
   "source": [
    "y_train_full.shape, y_train_full.dtype"
   ]
  },
  {
   "cell_type": "code",
   "execution_count": 12,
   "metadata": {
    "colab": {
     "base_uri": "https://localhost:8080/"
    },
    "executionInfo": {
     "elapsed": 20,
     "status": "ok",
     "timestamp": 1646035743006,
     "user": {
      "displayName": "Fazlullah Bokhari",
      "photoUrl": "https://lh3.googleusercontent.com/a-/AOh14Gipq_QgeUq_pWM5JfrIi8EPz81aivJwQNauOq0I1w=s64",
      "userId": "18027421437445643378"
     },
     "user_tz": -330
    },
    "id": "TpoqeflazPgC",
    "outputId": "9c6958c4-5935-45d3-e702-64191bb955b4"
   },
   "outputs": [
    {
     "data": {
      "text/plain": [
       "((10000,), dtype('uint8'))"
      ]
     },
     "execution_count": 12,
     "metadata": {},
     "output_type": "execute_result"
    }
   ],
   "source": [
    "y_test.shape, y_test.dtype"
   ]
  },
  {
   "cell_type": "code",
   "execution_count": 13,
   "metadata": {
    "executionInfo": {
     "elapsed": 19,
     "status": "ok",
     "timestamp": 1646035743007,
     "user": {
      "displayName": "Fazlullah Bokhari",
      "photoUrl": "https://lh3.googleusercontent.com/a-/AOh14Gipq_QgeUq_pWM5JfrIi8EPz81aivJwQNauOq0I1w=s64",
      "userId": "18027421437445643378"
     },
     "user_tz": -330
    },
    "id": "Xgls52qvzTjS"
   },
   "outputs": [],
   "source": [
    "X_valid, X_train = X_train_full[:5000]/255., X_train_full[5000:]/255.\n",
    "y_valid, y_train = y_train_full[:5000], y_train_full[5000:]\n",
    "\n",
    "X_test = x_test/255."
   ]
  },
  {
   "cell_type": "code",
   "execution_count": 14,
   "metadata": {
    "colab": {
     "base_uri": "https://localhost:8080/",
     "height": 265
    },
    "executionInfo": {
     "elapsed": 18,
     "status": "ok",
     "timestamp": 1646035743007,
     "user": {
      "displayName": "Fazlullah Bokhari",
      "photoUrl": "https://lh3.googleusercontent.com/a-/AOh14Gipq_QgeUq_pWM5JfrIi8EPz81aivJwQNauOq0I1w=s64",
      "userId": "18027421437445643378"
     },
     "user_tz": -330
    },
    "id": "iDGGlYnl0yu-",
    "outputId": "a4e98ca2-5221-4154-f0e3-e68b43c7a953"
   },
   "outputs": [
    {
     "data": {
      "image/png": "[encoded data removed]",
      "text/plain": [
       "<Figure size 432x288 with 1 Axes>"
      ]
     },
     "metadata": {
      "needs_background": "light"
     },
     "output_type": "display_data"
    },
    {
     "data": {
      "text/plain": [
       "7"
      ]
     },
     "execution_count": 14,
     "metadata": {},
     "output_type": "execute_result"
    }
   ],
   "source": [
    "plt.imshow(X_train[0], cmap=\"binary\")\n",
    "plt.axis(\"off\")\n",
    "plt.show()\n",
    "y_train[0]"
   ]
  },
  {
   "cell_type": "code",
   "execution_count": 15,
   "metadata": {
    "colab": {
     "base_uri": "https://localhost:8080/",
     "height": 880
    },
    "executionInfo": {
     "elapsed": 6235,
     "status": "ok",
     "timestamp": 1646035749226,
     "user": {
      "displayName": "Fazlullah Bokhari",
      "photoUrl": "https://lh3.googleusercontent.com/a-/AOh14Gipq_QgeUq_pWM5JfrIi8EPz81aivJwQNauOq0I1w=s64",
      "userId": "18027421437445643378"
     },
     "user_tz": -330
    },
    "id": "lyCvWdBZ1GKZ",
    "outputId": "d1d8b338-7d86-4757-b6b7-1f0ff7c06979"
   },
   "outputs": [
    {
     "data": {
      "text/plain": [
       "<matplotlib.axes._subplots.AxesSubplot at 0x7f8b40445fd0>"
      ]
     },
     "execution_count": 15,
     "metadata": {},
     "output_type": "execute_result"
    },
    {
     "data": {
      "image/png": "[encoded data removed]",
      "text/plain": [
       "<Figure size 1080x1080 with 2 Axes>"
      ]
     },
     "metadata": {
      "needs_background": "light"
     },
     "output_type": "display_data"
    }
   ],
   "source": [
    "import seaborn as sns\n",
    "plt.figure(figsize=(15,15))\n",
    "sns.heatmap(X_train[0], annot=True, cmap=\"binary\")"
   ]
  },
  {
   "cell_type": "code",
   "execution_count": 16,
   "metadata": {
    "executionInfo": {
     "elapsed": 17,
     "status": "ok",
     "timestamp": 1646035749230,
     "user": {
      "displayName": "Fazlullah Bokhari",
      "photoUrl": "https://lh3.googleusercontent.com/a-/AOh14Gipq_QgeUq_pWM5JfrIi8EPz81aivJwQNauOq0I1w=s64",
      "userId": "18027421437445643378"
     },
     "user_tz": -330
    },
    "id": "7D2cWqFi1mni"
   },
   "outputs": [],
   "source": [
    "LAYERS = [\n",
    "          tf.keras.layers.Flatten(input_shape=[28,28], name='inputLayer'),\n",
    "          tf.keras.layers.Dense(300,activation='relu', name='hiddenLayer1'),\n",
    "          tf.keras.layers.Dense(100,activation='relu', name='hiddenLayer2'),\n",
    "          tf.keras.layers.Dense(10,activation='softmax', name='outputLayer')\n",
    "]"
   ]
  },
  {
   "cell_type": "code",
   "execution_count": 17,
   "metadata": {
    "executionInfo": {
     "elapsed": 3799,
     "status": "ok",
     "timestamp": 1646035753015,
     "user": {
      "displayName": "Fazlullah Bokhari",
      "photoUrl": "https://lh3.googleusercontent.com/a-/AOh14Gipq_QgeUq_pWM5JfrIi8EPz81aivJwQNauOq0I1w=s64",
      "userId": "18027421437445643378"
     },
     "user_tz": -330
    },
    "id": "RS2nVfh65kFS"
   },
   "outputs": [],
   "source": [
    "model = tf.keras.models.Sequential(LAYERS)"
   ]
  },
  {
   "cell_type": "code",
   "execution_count": 18,
   "metadata": {
    "colab": {
     "base_uri": "https://localhost:8080/"
    },
    "executionInfo": {
     "elapsed": 48,
     "status": "ok",
     "timestamp": 1646035753016,
     "user": {
      "displayName": "Fazlullah Bokhari",
      "photoUrl": "https://lh3.googleusercontent.com/a-/AOh14Gipq_QgeUq_pWM5JfrIi8EPz81aivJwQNauOq0I1w=s64",
      "userId": "18027421437445643378"
     },
     "user_tz": -330
    },
    "id": "rkK2MtYx5x06",
    "outputId": "01665c82-af12-4653-9dcf-e04576ad3478"
   },
   "outputs": [
    {
     "data": {
      "text/plain": [
       "[<keras.layers.core.flatten.Flatten at 0x7f8ad83d4350>,\n",
       " <keras.layers.core.dense.Dense at 0x7f8ad83d4fd0>,\n",
       " <keras.layers.core.dense.Dense at 0x7f8ad8477550>,\n",
       " <keras.layers.core.dense.Dense at 0x7f8ad84778d0>]"
      ]
     },
     "execution_count": 18,
     "metadata": {},
     "output_type": "execute_result"
    }
   ],
   "source": [
    "model.layers"
   ]
  },
  {
   "cell_type": "code",
   "execution_count": 19,
   "metadata": {
    "colab": {
     "base_uri": "https://localhost:8080/"
    },
    "executionInfo": {
     "elapsed": 45,
     "status": "ok",
     "timestamp": 1646035753017,
     "user": {
      "displayName": "Fazlullah Bokhari",
      "photoUrl": "https://lh3.googleusercontent.com/a-/AOh14Gipq_QgeUq_pWM5JfrIi8EPz81aivJwQNauOq0I1w=s64",
      "userId": "18027421437445643378"
     },
     "user_tz": -330
    },
    "id": "Hj5m8wnU5246",
    "outputId": "a85a07fc-6b04-469a-bac5-706aa051d29d"
   },
   "outputs": [
    {
     "name": "stdout",
     "output_type": "stream",
     "text": [
      "Model: \"sequential\"\n",
      "_________________________________________________________________\n",
      " Layer (type)                Output Shape              Param #   \n",
      "=================================================================\n",
      " inputLayer (Flatten)        (None, 784)               0         \n",
      "                                                                 \n",
      " hiddenLayer1 (Dense)        (None, 300)               235500    \n",
      "                                                                 \n",
      " hiddenLayer2 (Dense)        (None, 100)               30100     \n",
      "                                                                 \n",
      " outputLayer (Dense)         (None, 10)                1010      \n",
      "                                                                 \n",
      "=================================================================\n",
      "Total params: 266,610\n",
      "Trainable params: 266,610\n",
      "Non-trainable params: 0\n",
      "_________________________________________________________________\n"
     ]
    }
   ],
   "source": [
    "model.summary()"
   ]
  },
  {
   "cell_type": "code",
   "execution_count": 20,
   "metadata": {
    "colab": {
     "base_uri": "https://localhost:8080/"
    },
    "executionInfo": {
     "elapsed": 37,
     "status": "ok",
     "timestamp": 1646035753017,
     "user": {
      "displayName": "Fazlullah Bokhari",
      "photoUrl": "https://lh3.googleusercontent.com/a-/AOh14Gipq_QgeUq_pWM5JfrIi8EPz81aivJwQNauOq0I1w=s64",
      "userId": "18027421437445643378"
     },
     "user_tz": -330
    },
    "id": "Z5Dx2V-e564d",
    "outputId": "1c3acafd-46fa-4037-a7ed-ae84a8a4dc2b"
   },
   "outputs": [
    {
     "data": {
      "text/plain": [
       "[235500, 30100, 1010]"
      ]
     },
     "execution_count": 20,
     "metadata": {},
     "output_type": "execute_result"
    }
   ],
   "source": [
    "[784*300+300,300*100+100,100*10+10]"
   ]
  },
  {
   "cell_type": "code",
   "execution_count": 21,
   "metadata": {
    "colab": {
     "base_uri": "https://localhost:8080/"
    },
    "executionInfo": {
     "elapsed": 35,
     "status": "ok",
     "timestamp": 1646035753018,
     "user": {
      "displayName": "Fazlullah Bokhari",
      "photoUrl": "https://lh3.googleusercontent.com/a-/AOh14Gipq_QgeUq_pWM5JfrIi8EPz81aivJwQNauOq0I1w=s64",
      "userId": "18027421437445643378"
     },
     "user_tz": -330
    },
    "id": "S58zFfrk6h9q",
    "outputId": "6d6daea4-5f4b-4d96-cb69-9c6f546d38a8"
   },
   "outputs": [
    {
     "data": {
      "text/plain": [
       "266610"
      ]
     },
     "execution_count": 21,
     "metadata": {},
     "output_type": "execute_result"
    }
   ],
   "source": [
    "sum([784*300+300,300*100+100,100*10+10])"
   ]
  },
  {
   "cell_type": "code",
   "execution_count": 22,
   "metadata": {
    "colab": {
     "base_uri": "https://localhost:8080/"
    },
    "executionInfo": {
     "elapsed": 33,
     "status": "ok",
     "timestamp": 1646035753018,
     "user": {
      "displayName": "Fazlullah Bokhari",
      "photoUrl": "https://lh3.googleusercontent.com/a-/AOh14Gipq_QgeUq_pWM5JfrIi8EPz81aivJwQNauOq0I1w=s64",
      "userId": "18027421437445643378"
     },
     "user_tz": -330
    },
    "id": "ptzsW0Ce7NiK",
    "outputId": "fa48fb72-d2ee-41c9-f64f-bd42a37c7a28"
   },
   "outputs": [
    {
     "data": {
      "text/plain": [
       "<keras.layers.core.dense.Dense at 0x7f8ad83d4fd0>"
      ]
     },
     "execution_count": 22,
     "metadata": {},
     "output_type": "execute_result"
    }
   ],
   "source": [
    "hidden1 = model.layers[1]\n",
    "\n",
    "model.get_layer(hidden1.name)"
   ]
  },
  {
   "cell_type": "code",
   "execution_count": 23,
   "metadata": {
    "colab": {
     "base_uri": "https://localhost:8080/"
    },
    "executionInfo": {
     "elapsed": 31,
     "status": "ok",
     "timestamp": 1646035753019,
     "user": {
      "displayName": "Fazlullah Bokhari",
      "photoUrl": "https://lh3.googleusercontent.com/a-/AOh14Gipq_QgeUq_pWM5JfrIi8EPz81aivJwQNauOq0I1w=s64",
      "userId": "18027421437445643378"
     },
     "user_tz": -330
    },
    "id": "O2tlK9lo9Qlq",
    "outputId": "f2c7a061-b741-447a-9644-74ccd247a2ec"
   },
   "outputs": [
    {
     "data": {
      "text/plain": [
       "[array([[ 0.03550281,  0.05480647, -0.00518096, ..., -0.06436382,\n",
       "          0.07067053, -0.02486805],\n",
       "        [ 0.01017883, -0.04461517,  0.0347862 , ...,  0.03900693,\n",
       "          0.02774255,  0.05940813],\n",
       "        [-0.0455009 ,  0.03109854,  0.0685785 , ...,  0.03389762,\n",
       "          0.05727376,  0.04376901],\n",
       "        ...,\n",
       "        [-0.05594677,  0.06657496,  0.03088522, ..., -0.06599179,\n",
       "          0.05332677,  0.0017448 ],\n",
       "        [ 0.00262503, -0.01784776, -0.03537801, ..., -0.06071575,\n",
       "         -0.07100821, -0.03657231],\n",
       "        [ 0.06406978, -0.02718764, -0.01573874, ...,  0.06596936,\n",
       "          0.04135905,  0.00890527]], dtype=float32),\n",
       " array([0., 0., 0., 0., 0., 0., 0., 0., 0., 0., 0., 0., 0., 0., 0., 0., 0.,\n",
       "        0., 0., 0., 0., 0., 0., 0., 0., 0., 0., 0., 0., 0., 0., 0., 0., 0.,\n",
       "        0., 0., 0., 0., 0., 0., 0., 0., 0., 0., 0., 0., 0., 0., 0., 0., 0.,\n",
       "        0., 0., 0., 0., 0., 0., 0., 0., 0., 0., 0., 0., 0., 0., 0., 0., 0.,\n",
       "        0., 0., 0., 0., 0., 0., 0., 0., 0., 0., 0., 0., 0., 0., 0., 0., 0.,\n",
       "        0., 0., 0., 0., 0., 0., 0., 0., 0., 0., 0., 0., 0., 0., 0., 0., 0.,\n",
       "        0., 0., 0., 0., 0., 0., 0., 0., 0., 0., 0., 0., 0., 0., 0., 0., 0.,\n",
       "        0., 0., 0., 0., 0., 0., 0., 0., 0., 0., 0., 0., 0., 0., 0., 0., 0.,\n",
       "        0., 0., 0., 0., 0., 0., 0., 0., 0., 0., 0., 0., 0., 0., 0., 0., 0.,\n",
       "        0., 0., 0., 0., 0., 0., 0., 0., 0., 0., 0., 0., 0., 0., 0., 0., 0.,\n",
       "        0., 0., 0., 0., 0., 0., 0., 0., 0., 0., 0., 0., 0., 0., 0., 0., 0.,\n",
       "        0., 0., 0., 0., 0., 0., 0., 0., 0., 0., 0., 0., 0., 0., 0., 0., 0.,\n",
       "        0., 0., 0., 0., 0., 0., 0., 0., 0., 0., 0., 0., 0., 0., 0., 0., 0.,\n",
       "        0., 0., 0., 0., 0., 0., 0., 0., 0., 0., 0., 0., 0., 0., 0., 0., 0.,\n",
       "        0., 0., 0., 0., 0., 0., 0., 0., 0., 0., 0., 0., 0., 0., 0., 0., 0.,\n",
       "        0., 0., 0., 0., 0., 0., 0., 0., 0., 0., 0., 0., 0., 0., 0., 0., 0.,\n",
       "        0., 0., 0., 0., 0., 0., 0., 0., 0., 0., 0., 0., 0., 0., 0., 0., 0.,\n",
       "        0., 0., 0., 0., 0., 0., 0., 0., 0., 0., 0.], dtype=float32)]"
      ]
     },
     "execution_count": 23,
     "metadata": {},
     "output_type": "execute_result"
    }
   ],
   "source": [
    "hidden1.get_weights()"
   ]
  },
  {
   "cell_type": "code",
   "execution_count": 24,
   "metadata": {
    "executionInfo": {
     "elapsed": 29,
     "status": "ok",
     "timestamp": 1646035753019,
     "user": {
      "displayName": "Fazlullah Bokhari",
      "photoUrl": "https://lh3.googleusercontent.com/a-/AOh14Gipq_QgeUq_pWM5JfrIi8EPz81aivJwQNauOq0I1w=s64",
      "userId": "18027421437445643378"
     },
     "user_tz": -330
    },
    "id": "YveaEhyj9V4C"
   },
   "outputs": [],
   "source": [
    "weights, biases = hidden1.get_weights()"
   ]
  },
  {
   "cell_type": "code",
   "execution_count": 25,
   "metadata": {
    "colab": {
     "base_uri": "https://localhost:8080/"
    },
    "executionInfo": {
     "elapsed": 30,
     "status": "ok",
     "timestamp": 1646035753020,
     "user": {
      "displayName": "Fazlullah Bokhari",
      "photoUrl": "https://lh3.googleusercontent.com/a-/AOh14Gipq_QgeUq_pWM5JfrIi8EPz81aivJwQNauOq0I1w=s64",
      "userId": "18027421437445643378"
     },
     "user_tz": -330
    },
    "id": "VxrnT3DL9srC",
    "outputId": "e7ba5bad-ea3b-46d6-81da-3c1f05ab3272"
   },
   "outputs": [
    {
     "data": {
      "text/plain": [
       "(784, 300)"
      ]
     },
     "execution_count": 25,
     "metadata": {},
     "output_type": "execute_result"
    }
   ],
   "source": [
    "weights.shape"
   ]
  },
  {
   "cell_type": "code",
   "execution_count": 26,
   "metadata": {
    "colab": {
     "base_uri": "https://localhost:8080/"
    },
    "executionInfo": {
     "elapsed": 26,
     "status": "ok",
     "timestamp": 1646035753020,
     "user": {
      "displayName": "Fazlullah Bokhari",
      "photoUrl": "https://lh3.googleusercontent.com/a-/AOh14Gipq_QgeUq_pWM5JfrIi8EPz81aivJwQNauOq0I1w=s64",
      "userId": "18027421437445643378"
     },
     "user_tz": -330
    },
    "id": "tgPlUqk19v1n",
    "outputId": "28bd5107-ca94-4625-8511-6865a2a687ac"
   },
   "outputs": [
    {
     "data": {
      "text/plain": [
       "(300,)"
      ]
     },
     "execution_count": 26,
     "metadata": {},
     "output_type": "execute_result"
    }
   ],
   "source": [
    "biases.shape"
   ]
  },
  {
   "cell_type": "markdown",
   "metadata": {
    "id": "Q5bZ_nRhB1JX"
   },
   "source": [
    "loss_function(actual, pred) = error"
   ]
  },
  {
   "cell_type": "code",
   "execution_count": 27,
   "metadata": {
    "executionInfo": {
     "elapsed": 23,
     "status": "ok",
     "timestamp": 1646035753021,
     "user": {
      "displayName": "Fazlullah Bokhari",
      "photoUrl": "https://lh3.googleusercontent.com/a-/AOh14Gipq_QgeUq_pWM5JfrIi8EPz81aivJwQNauOq0I1w=s64",
      "userId": "18027421437445643378"
     },
     "user_tz": -330
    },
    "id": "1weslDBJ9yDO"
   },
   "outputs": [],
   "source": [
    "LOSS_FUNCTION = \"sparse_categorical_crossentropy\"\n",
    "OPTIMIZER = \"SGD\"\n",
    "METRICS = [\"accuracy\"]\n",
    "\n",
    "model.compile(loss=LOSS_FUNCTION,\n",
    "              optimizer=OPTIMIZER,\n",
    "              metrics=METRICS)"
   ]
  },
  {
   "cell_type": "markdown",
   "metadata": {
    "id": "CCGBYTLgDTT0"
   },
   "source": [
    "## Important -\n",
    "* **Epochs**: Integer.\n",
    "\n",
    "* Number of epochs to train the model. An epoch is an iteration over the entire x and y data provided.\n",
    "\n",
    "* **batch_size**: Integer or None.\n",
    "\n",
    "* Number of samples per gradient update. If unspecified, batch_size will default to 32.\n",
    "\n",
    "* **NOTE**: Do not specify the batch_size if your data is in the form of datasets, generators, or keras.utils.Sequence instances (since they generate batches).\n",
    "\n",
    "* **validation_batch_size**: Integer or None.\n",
    "\n",
    "* Number of samples per validation batch.\n",
    "\n",
    "* If unspecified, will default to batch_size.\n",
    "\n",
    "* **NOTE**: Do not specify the validation_batch_size if your data is in the form of datasets, generators, or keras.utils.Sequence instances (since they generate batches).\n",
    "\n",
    "\n",
    "* **[Reference](https://www.tensorflow.org/api_docs/python/tf/keras/Model?hl=zh-tw#fit )**"
   ]
  },
  {
   "cell_type": "code",
   "execution_count": 28,
   "metadata": {
    "colab": {
     "base_uri": "https://localhost:8080/"
    },
    "executionInfo": {
     "elapsed": 203358,
     "status": "ok",
     "timestamp": 1646035956357,
     "user": {
      "displayName": "Fazlullah Bokhari",
      "photoUrl": "https://lh3.googleusercontent.com/a-/AOh14Gipq_QgeUq_pWM5JfrIi8EPz81aivJwQNauOq0I1w=s64",
      "userId": "18027421437445643378"
     },
     "user_tz": -330
    },
    "id": "Q85CcY3AB_Qn",
    "outputId": "c95e3e4c-3005-48ed-e2d1-db7ae8efc5ae"
   },
   "outputs": [
    {
     "name": "stdout",
     "output_type": "stream",
     "text": [
      "Epoch 1/30\n",
      "1719/1719 [==============================] - 10s 4ms/step - loss: 0.6254 - accuracy: 0.8355 - val_loss: 0.3067 - val_accuracy: 0.9140\n",
      "Epoch 2/30\n",
      "1719/1719 [==============================] - 6s 3ms/step - loss: 0.2883 - accuracy: 0.9178 - val_loss: 0.2326 - val_accuracy: 0.9378\n",
      "Epoch 3/30\n",
      "1719/1719 [==============================] - 7s 4ms/step - loss: 0.2339 - accuracy: 0.9329 - val_loss: 0.2012 - val_accuracy: 0.9462\n",
      "Epoch 4/30\n",
      "1719/1719 [==============================] - 6s 3ms/step - loss: 0.1991 - accuracy: 0.9434 - val_loss: 0.1713 - val_accuracy: 0.9536\n",
      "Epoch 5/30\n",
      "1719/1719 [==============================] - 6s 3ms/step - loss: 0.1736 - accuracy: 0.9507 - val_loss: 0.1615 - val_accuracy: 0.9580\n",
      "Epoch 6/30\n",
      "1719/1719 [==============================] - 6s 4ms/step - loss: 0.1537 - accuracy: 0.9562 - val_loss: 0.1463 - val_accuracy: 0.9634\n",
      "Epoch 7/30\n",
      "1719/1719 [==============================] - 6s 4ms/step - loss: 0.1378 - accuracy: 0.9615 - val_loss: 0.1297 - val_accuracy: 0.9652\n",
      "Epoch 8/30\n",
      "1719/1719 [==============================] - 6s 4ms/step - loss: 0.1250 - accuracy: 0.9651 - val_loss: 0.1203 - val_accuracy: 0.9678\n",
      "Epoch 9/30\n",
      "1719/1719 [==============================] - 6s 4ms/step - loss: 0.1143 - accuracy: 0.9679 - val_loss: 0.1148 - val_accuracy: 0.9698\n",
      "Epoch 10/30\n",
      "1719/1719 [==============================] - 6s 4ms/step - loss: 0.1046 - accuracy: 0.9709 - val_loss: 0.1078 - val_accuracy: 0.9714\n",
      "Epoch 11/30\n",
      "1719/1719 [==============================] - 6s 3ms/step - loss: 0.0963 - accuracy: 0.9737 - val_loss: 0.1016 - val_accuracy: 0.9746\n",
      "Epoch 12/30\n",
      "1719/1719 [==============================] - 6s 3ms/step - loss: 0.0893 - accuracy: 0.9750 - val_loss: 0.0964 - val_accuracy: 0.9748\n",
      "Epoch 13/30\n",
      "1719/1719 [==============================] - 6s 4ms/step - loss: 0.0825 - accuracy: 0.9771 - val_loss: 0.0935 - val_accuracy: 0.9754\n",
      "Epoch 14/30\n",
      "1719/1719 [==============================] - 7s 4ms/step - loss: 0.0771 - accuracy: 0.9787 - val_loss: 0.0919 - val_accuracy: 0.9740\n",
      "Epoch 15/30\n",
      "1719/1719 [==============================] - 6s 4ms/step - loss: 0.0717 - accuracy: 0.9801 - val_loss: 0.0921 - val_accuracy: 0.9740\n",
      "Epoch 16/30\n",
      "1719/1719 [==============================] - 6s 3ms/step - loss: 0.0670 - accuracy: 0.9816 - val_loss: 0.0847 - val_accuracy: 0.9768\n",
      "Epoch 17/30\n",
      "1719/1719 [==============================] - 6s 4ms/step - loss: 0.0625 - accuracy: 0.9828 - val_loss: 0.0830 - val_accuracy: 0.9772\n",
      "Epoch 18/30\n",
      "1719/1719 [==============================] - 6s 4ms/step - loss: 0.0586 - accuracy: 0.9840 - val_loss: 0.0795 - val_accuracy: 0.9770\n",
      "Epoch 19/30\n",
      "1719/1719 [==============================] - 6s 3ms/step - loss: 0.0549 - accuracy: 0.9855 - val_loss: 0.0802 - val_accuracy: 0.9768\n",
      "Epoch 20/30\n",
      "1719/1719 [==============================] - 6s 4ms/step - loss: 0.0517 - accuracy: 0.9865 - val_loss: 0.0766 - val_accuracy: 0.9782\n",
      "Epoch 21/30\n",
      "1719/1719 [==============================] - 6s 3ms/step - loss: 0.0485 - accuracy: 0.9868 - val_loss: 0.0757 - val_accuracy: 0.9796\n",
      "Epoch 22/30\n",
      "1719/1719 [==============================] - 6s 3ms/step - loss: 0.0456 - accuracy: 0.9882 - val_loss: 0.0749 - val_accuracy: 0.9764\n",
      "Epoch 23/30\n",
      "1719/1719 [==============================] - 6s 4ms/step - loss: 0.0428 - accuracy: 0.9892 - val_loss: 0.0731 - val_accuracy: 0.9768\n",
      "Epoch 24/30\n",
      "1719/1719 [==============================] - 6s 3ms/step - loss: 0.0404 - accuracy: 0.9899 - val_loss: 0.0711 - val_accuracy: 0.9782\n",
      "Epoch 25/30\n",
      "1719/1719 [==============================] - 6s 3ms/step - loss: 0.0382 - accuracy: 0.9902 - val_loss: 0.0726 - val_accuracy: 0.9786\n",
      "Epoch 26/30\n",
      "1719/1719 [==============================] - 6s 4ms/step - loss: 0.0358 - accuracy: 0.9915 - val_loss: 0.0706 - val_accuracy: 0.9794\n",
      "Epoch 27/30\n",
      "1719/1719 [==============================] - 6s 4ms/step - loss: 0.0337 - accuracy: 0.9918 - val_loss: 0.0682 - val_accuracy: 0.9800\n",
      "Epoch 28/30\n",
      "1719/1719 [==============================] - 6s 3ms/step - loss: 0.0317 - accuracy: 0.9925 - val_loss: 0.0696 - val_accuracy: 0.9800\n",
      "Epoch 29/30\n",
      "1719/1719 [==============================] - 6s 4ms/step - loss: 0.0299 - accuracy: 0.9930 - val_loss: 0.0684 - val_accuracy: 0.9796\n",
      "Epoch 30/30\n",
      "1719/1719 [==============================] - 6s 3ms/step - loss: 0.0282 - accuracy: 0.9937 - val_loss: 0.0695 - val_accuracy: 0.9798\n"
     ]
    }
   ],
   "source": [
    "EPOCHS = 30\n",
    "VALIDATION_SET = (X_valid, y_valid)\n",
    "\n",
    "history = model.fit(X_train, y_train,\n",
    "                    epochs=EPOCHS,\n",
    "                    validation_data=VALIDATION_SET)"
   ]
  },
  {
   "cell_type": "code",
   "execution_count": 29,
   "metadata": {
    "colab": {
     "base_uri": "https://localhost:8080/"
    },
    "executionInfo": {
     "elapsed": 811,
     "status": "ok",
     "timestamp": 1646035957152,
     "user": {
      "displayName": "Fazlullah Bokhari",
      "photoUrl": "https://lh3.googleusercontent.com/a-/AOh14Gipq_QgeUq_pWM5JfrIi8EPz81aivJwQNauOq0I1w=s64",
      "userId": "18027421437445643378"
     },
     "user_tz": -330
    },
    "id": "Diu_vJfjFu7x",
    "outputId": "1e5ced63-6fc7-4ffe-dcc4-16a417ac44c7"
   },
   "outputs": [
    {
     "name": "stdout",
     "output_type": "stream",
     "text": [
      "313/313 [==============================] - 1s 3ms/step - loss: 0.0694 - accuracy: 0.9768\n"
     ]
    },
    {
     "data": {
      "text/plain": [
       "[0.06936819106340408, 0.9768000245094299]"
      ]
     },
     "execution_count": 29,
     "metadata": {},
     "output_type": "execute_result"
    }
   ],
   "source": [
    "model.evaluate(X_test, y_test)"
   ]
  },
  {
   "cell_type": "code",
   "execution_count": 30,
   "metadata": {
    "executionInfo": {
     "elapsed": 6,
     "status": "ok",
     "timestamp": 1646035957153,
     "user": {
      "displayName": "Fazlullah Bokhari",
      "photoUrl": "https://lh3.googleusercontent.com/a-/AOh14Gipq_QgeUq_pWM5JfrIi8EPz81aivJwQNauOq0I1w=s64",
      "userId": "18027421437445643378"
     },
     "user_tz": -330
    },
    "id": "RDA-fNo3Gzz0"
   },
   "outputs": [],
   "source": [
    "model.save(\"model.h5\")"
   ]
  },
  {
   "cell_type": "code",
   "execution_count": 31,
   "metadata": {
    "executionInfo": {
     "elapsed": 5,
     "status": "ok",
     "timestamp": 1646035957153,
     "user": {
      "displayName": "Fazlullah Bokhari",
      "photoUrl": "https://lh3.googleusercontent.com/a-/AOh14Gipq_QgeUq_pWM5JfrIi8EPz81aivJwQNauOq0I1w=s64",
      "userId": "18027421437445643378"
     },
     "user_tz": -330
    },
    "id": "JGxLUB--G_cx"
   },
   "outputs": [],
   "source": [
    "loaded_model = tf.keras.models.load_model(\"model.h5\")"
   ]
  },
  {
   "cell_type": "code",
   "execution_count": 32,
   "metadata": {
    "colab": {
     "base_uri": "https://localhost:8080/"
    },
    "executionInfo": {
     "elapsed": 1447,
     "status": "ok",
     "timestamp": 1646035958595,
     "user": {
      "displayName": "Fazlullah Bokhari",
      "photoUrl": "https://lh3.googleusercontent.com/a-/AOh14Gipq_QgeUq_pWM5JfrIi8EPz81aivJwQNauOq0I1w=s64",
      "userId": "18027421437445643378"
     },
     "user_tz": -330
    },
    "id": "O6dkGTM2HpM_",
    "outputId": "3b1057f8-6ae2-4e82-dba8-1884125c7273"
   },
   "outputs": [
    {
     "name": "stdout",
     "output_type": "stream",
     "text": [
      "313/313 [==============================] - 1s 3ms/step - loss: 0.0694 - accuracy: 0.9768\n"
     ]
    },
    {
     "data": {
      "text/plain": [
       "[0.06936819106340408, 0.9768000245094299]"
      ]
     },
     "execution_count": 32,
     "metadata": {},
     "output_type": "execute_result"
    }
   ],
   "source": [
    "loaded_model.evaluate(X_test, y_test)"
   ]
  },
  {
   "cell_type": "code",
   "execution_count": 33,
   "metadata": {
    "colab": {
     "base_uri": "https://localhost:8080/"
    },
    "executionInfo": {
     "elapsed": 44,
     "status": "ok",
     "timestamp": 1646035958597,
     "user": {
      "displayName": "Fazlullah Bokhari",
      "photoUrl": "https://lh3.googleusercontent.com/a-/AOh14Gipq_QgeUq_pWM5JfrIi8EPz81aivJwQNauOq0I1w=s64",
      "userId": "18027421437445643378"
     },
     "user_tz": -330
    },
    "id": "m1xFAKhWHxkH",
    "outputId": "ba4a39d6-e1a6-447e-bae1-89d0c39b51ee"
   },
   "outputs": [
    {
     "data": {
      "text/plain": [
       "{'accuracy': [0.8355273008346558,\n",
       "  0.9178000092506409,\n",
       "  0.9329272508621216,\n",
       "  0.943363606929779,\n",
       "  0.9506545662879944,\n",
       "  0.9562181830406189,\n",
       "  0.9614909291267395,\n",
       "  0.965145468711853,\n",
       "  0.9678909182548523,\n",
       "  0.9708545207977295,\n",
       "  0.973690927028656,\n",
       "  0.9749636650085449,\n",
       "  0.9770908951759338,\n",
       "  0.9786909222602844,\n",
       "  0.9800727367401123,\n",
       "  0.9816363453865051,\n",
       "  0.9827636480331421,\n",
       "  0.9839818477630615,\n",
       "  0.9855272769927979,\n",
       "  0.9864545464515686,\n",
       "  0.9868000149726868,\n",
       "  0.9882181882858276,\n",
       "  0.9892363548278809,\n",
       "  0.9899272918701172,\n",
       "  0.9902363419532776,\n",
       "  0.991454541683197,\n",
       "  0.9918363690376282,\n",
       "  0.9925090670585632,\n",
       "  0.9930182099342346,\n",
       "  0.9937090873718262],\n",
       " 'loss': [0.6253962516784668,\n",
       "  0.2882952094078064,\n",
       "  0.23394031822681427,\n",
       "  0.19911719858646393,\n",
       "  0.17356820404529572,\n",
       "  0.15372440218925476,\n",
       "  0.13778287172317505,\n",
       "  0.12502722442150116,\n",
       "  0.11427713930606842,\n",
       "  0.10456473380327225,\n",
       "  0.09627778828144073,\n",
       "  0.08927331864833832,\n",
       "  0.08249783515930176,\n",
       "  0.07712963968515396,\n",
       "  0.0717114806175232,\n",
       "  0.0669574961066246,\n",
       "  0.062484174966812134,\n",
       "  0.05861659720540047,\n",
       "  0.05485188961029053,\n",
       "  0.051737669855356216,\n",
       "  0.04848906770348549,\n",
       "  0.04561633989214897,\n",
       "  0.04276721552014351,\n",
       "  0.04036113619804382,\n",
       "  0.03816203773021698,\n",
       "  0.03577619791030884,\n",
       "  0.033746663480997086,\n",
       "  0.03173245117068291,\n",
       "  0.029877344146370888,\n",
       "  0.028229188174009323],\n",
       " 'val_accuracy': [0.9139999747276306,\n",
       "  0.9377999901771545,\n",
       "  0.9462000131607056,\n",
       "  0.9535999894142151,\n",
       "  0.9580000042915344,\n",
       "  0.9634000062942505,\n",
       "  0.9652000069618225,\n",
       "  0.9678000211715698,\n",
       "  0.9697999954223633,\n",
       "  0.9714000225067139,\n",
       "  0.9746000170707703,\n",
       "  0.9747999906539917,\n",
       "  0.9753999710083008,\n",
       "  0.9739999771118164,\n",
       "  0.9739999771118164,\n",
       "  0.9768000245094299,\n",
       "  0.9771999716758728,\n",
       "  0.9769999980926514,\n",
       "  0.9768000245094299,\n",
       "  0.9782000184059143,\n",
       "  0.9796000123023987,\n",
       "  0.9764000177383423,\n",
       "  0.9768000245094299,\n",
       "  0.9782000184059143,\n",
       "  0.978600025177002,\n",
       "  0.9793999791145325,\n",
       "  0.9800000190734863,\n",
       "  0.9800000190734863,\n",
       "  0.9796000123023987,\n",
       "  0.9797999858856201],\n",
       " 'val_loss': [0.30668821930885315,\n",
       "  0.23261669278144836,\n",
       "  0.20122598111629486,\n",
       "  0.1712622344493866,\n",
       "  0.16145560145378113,\n",
       "  0.14632421731948853,\n",
       "  0.1297082006931305,\n",
       "  0.12029073387384415,\n",
       "  0.1147819459438324,\n",
       "  0.10775554180145264,\n",
       "  0.1015685647726059,\n",
       "  0.09637465327978134,\n",
       "  0.0934813991189003,\n",
       "  0.09194294363260269,\n",
       "  0.09213235229253769,\n",
       "  0.08465728908777237,\n",
       "  0.08301721513271332,\n",
       "  0.07950098067522049,\n",
       "  0.08018022775650024,\n",
       "  0.07655950635671616,\n",
       "  0.07567387819290161,\n",
       "  0.07485736161470413,\n",
       "  0.0730910673737526,\n",
       "  0.07107740640640259,\n",
       "  0.07259896397590637,\n",
       "  0.07062841951847076,\n",
       "  0.06821606308221817,\n",
       "  0.06957254558801651,\n",
       "  0.0683840662240982,\n",
       "  0.06947928667068481]}"
      ]
     },
     "execution_count": 33,
     "metadata": {},
     "output_type": "execute_result"
    }
   ],
   "source": [
    "history.history"
   ]
  },
  {
   "cell_type": "code",
   "execution_count": 34,
   "metadata": {
    "colab": {
     "base_uri": "https://localhost:8080/"
    },
    "executionInfo": {
     "elapsed": 36,
     "status": "ok",
     "timestamp": 1646035958598,
     "user": {
      "displayName": "Fazlullah Bokhari",
      "photoUrl": "https://lh3.googleusercontent.com/a-/AOh14Gipq_QgeUq_pWM5JfrIi8EPz81aivJwQNauOq0I1w=s64",
      "userId": "18027421437445643378"
     },
     "user_tz": -330
    },
    "id": "RmRUjz_yH1-X",
    "outputId": "f2565154-b588-4516-c0c0-92b9420dc19d"
   },
   "outputs": [
    {
     "data": {
      "text/plain": [
       "dict"
      ]
     },
     "execution_count": 34,
     "metadata": {},
     "output_type": "execute_result"
    }
   ],
   "source": [
    "type(history.history)"
   ]
  },
  {
   "cell_type": "code",
   "execution_count": 35,
   "metadata": {
    "colab": {
     "base_uri": "https://localhost:8080/",
     "height": 990
    },
    "executionInfo": {
     "elapsed": 29,
     "status": "ok",
     "timestamp": 1646035958600,
     "user": {
      "displayName": "Fazlullah Bokhari",
      "photoUrl": "https://lh3.googleusercontent.com/a-/AOh14Gipq_QgeUq_pWM5JfrIi8EPz81aivJwQNauOq0I1w=s64",
      "userId": "18027421437445643378"
     },
     "user_tz": -330
    },
    "id": "ZdPj5LMbIBOI",
    "outputId": "70c00241-a67a-4c7b-8606-568b53f25634"
   },
   "outputs": [
    {
     "data": {
      "text/html": [
       "\n",
       "  <div id=\"df-a554531f-a79a-400c-ab2e-4e0843e3b6ee\">\n",
       "    <div class=\"colab-df-container\">\n",
       "      <div>\n",
       "<style scoped>\n",
       "    .dataframe tbody tr th:only-of-type {\n",
       "        vertical-align: middle;\n",
       "    }\n",
       "\n",
       "    .dataframe tbody tr th {\n",
       "        vertical-align: top;\n",
       "    }\n",
       "\n",
       "    .dataframe thead th {\n",
       "        text-align: right;\n",
       "    }\n",
       "</style>\n",
       "<table border=\"1\" class=\"dataframe\">\n",
       "  <thead>\n",
       "    <tr style=\"text-align: right;\">\n",
       "      <th></th>\n",
       "      <th>loss</th>\n",
       "      <th>accuracy</th>\n",
       "      <th>val_loss</th>\n",
       "      <th>val_accuracy</th>\n",
       "    </tr>\n",
       "  </thead>\n",
       "  <tbody>\n",
       "    <tr>\n",
       "      <th>0</th>\n",
       "      <td>0.625396</td>\n",
       "      <td>0.835527</td>\n",
       "      <td>0.306688</td>\n",
       "      <td>0.9140</td>\n",
       "    </tr>\n",
       "    <tr>\n",
       "      <th>1</th>\n",
       "      <td>0.288295</td>\n",
       "      <td>0.917800</td>\n",
       "      <td>0.232617</td>\n",
       "      <td>0.9378</td>\n",
       "    </tr>\n",
       "    <tr>\n",
       "      <th>2</th>\n",
       "      <td>0.233940</td>\n",
       "      <td>0.932927</td>\n",
       "      <td>0.201226</td>\n",
       "      <td>0.9462</td>\n",
       "    </tr>\n",
       "    <tr>\n",
       "      <th>3</th>\n",
       "      <td>0.199117</td>\n",
       "      <td>0.943364</td>\n",
       "      <td>0.171262</td>\n",
       "      <td>0.9536</td>\n",
       "    </tr>\n",
       "    <tr>\n",
       "      <th>4</th>\n",
       "      <td>0.173568</td>\n",
       "      <td>0.950655</td>\n",
       "      <td>0.161456</td>\n",
       "      <td>0.9580</td>\n",
       "    </tr>\n",
       "    <tr>\n",
       "      <th>5</th>\n",
       "      <td>0.153724</td>\n",
       "      <td>0.956218</td>\n",
       "      <td>0.146324</td>\n",
       "      <td>0.9634</td>\n",
       "    </tr>\n",
       "    <tr>\n",
       "      <th>6</th>\n",
       "      <td>0.137783</td>\n",
       "      <td>0.961491</td>\n",
       "      <td>0.129708</td>\n",
       "      <td>0.9652</td>\n",
       "    </tr>\n",
       "    <tr>\n",
       "      <th>7</th>\n",
       "      <td>0.125027</td>\n",
       "      <td>0.965145</td>\n",
       "      <td>0.120291</td>\n",
       "      <td>0.9678</td>\n",
       "    </tr>\n",
       "    <tr>\n",
       "      <th>8</th>\n",
       "      <td>0.114277</td>\n",
       "      <td>0.967891</td>\n",
       "      <td>0.114782</td>\n",
       "      <td>0.9698</td>\n",
       "    </tr>\n",
       "    <tr>\n",
       "      <th>9</th>\n",
       "      <td>0.104565</td>\n",
       "      <td>0.970855</td>\n",
       "      <td>0.107756</td>\n",
       "      <td>0.9714</td>\n",
       "    </tr>\n",
       "    <tr>\n",
       "      <th>10</th>\n",
       "      <td>0.096278</td>\n",
       "      <td>0.973691</td>\n",
       "      <td>0.101569</td>\n",
       "      <td>0.9746</td>\n",
       "    </tr>\n",
       "    <tr>\n",
       "      <th>11</th>\n",
       "      <td>0.089273</td>\n",
       "      <td>0.974964</td>\n",
       "      <td>0.096375</td>\n",
       "      <td>0.9748</td>\n",
       "    </tr>\n",
       "    <tr>\n",
       "      <th>12</th>\n",
       "      <td>0.082498</td>\n",
       "      <td>0.977091</td>\n",
       "      <td>0.093481</td>\n",
       "      <td>0.9754</td>\n",
       "    </tr>\n",
       "    <tr>\n",
       "      <th>13</th>\n",
       "      <td>0.077130</td>\n",
       "      <td>0.978691</td>\n",
       "      <td>0.091943</td>\n",
       "      <td>0.9740</td>\n",
       "    </tr>\n",
       "    <tr>\n",
       "      <th>14</th>\n",
       "      <td>0.071711</td>\n",
       "      <td>0.980073</td>\n",
       "      <td>0.092132</td>\n",
       "      <td>0.9740</td>\n",
       "    </tr>\n",
       "    <tr>\n",
       "      <th>15</th>\n",
       "      <td>0.066957</td>\n",
       "      <td>0.981636</td>\n",
       "      <td>0.084657</td>\n",
       "      <td>0.9768</td>\n",
       "    </tr>\n",
       "    <tr>\n",
       "      <th>16</th>\n",
       "      <td>0.062484</td>\n",
       "      <td>0.982764</td>\n",
       "      <td>0.083017</td>\n",
       "      <td>0.9772</td>\n",
       "    </tr>\n",
       "    <tr>\n",
       "      <th>17</th>\n",
       "      <td>0.058617</td>\n",
       "      <td>0.983982</td>\n",
       "      <td>0.079501</td>\n",
       "      <td>0.9770</td>\n",
       "    </tr>\n",
       "    <tr>\n",
       "      <th>18</th>\n",
       "      <td>0.054852</td>\n",
       "      <td>0.985527</td>\n",
       "      <td>0.080180</td>\n",
       "      <td>0.9768</td>\n",
       "    </tr>\n",
       "    <tr>\n",
       "      <th>19</th>\n",
       "      <td>0.051738</td>\n",
       "      <td>0.986455</td>\n",
       "      <td>0.076560</td>\n",
       "      <td>0.9782</td>\n",
       "    </tr>\n",
       "    <tr>\n",
       "      <th>20</th>\n",
       "      <td>0.048489</td>\n",
       "      <td>0.986800</td>\n",
       "      <td>0.075674</td>\n",
       "      <td>0.9796</td>\n",
       "    </tr>\n",
       "    <tr>\n",
       "      <th>21</th>\n",
       "      <td>0.045616</td>\n",
       "      <td>0.988218</td>\n",
       "      <td>0.074857</td>\n",
       "      <td>0.9764</td>\n",
       "    </tr>\n",
       "    <tr>\n",
       "      <th>22</th>\n",
       "      <td>0.042767</td>\n",
       "      <td>0.989236</td>\n",
       "      <td>0.073091</td>\n",
       "      <td>0.9768</td>\n",
       "    </tr>\n",
       "    <tr>\n",
       "      <th>23</th>\n",
       "      <td>0.040361</td>\n",
       "      <td>0.989927</td>\n",
       "      <td>0.071077</td>\n",
       "      <td>0.9782</td>\n",
       "    </tr>\n",
       "    <tr>\n",
       "      <th>24</th>\n",
       "      <td>0.038162</td>\n",
       "      <td>0.990236</td>\n",
       "      <td>0.072599</td>\n",
       "      <td>0.9786</td>\n",
       "    </tr>\n",
       "    <tr>\n",
       "      <th>25</th>\n",
       "      <td>0.035776</td>\n",
       "      <td>0.991455</td>\n",
       "      <td>0.070628</td>\n",
       "      <td>0.9794</td>\n",
       "    </tr>\n",
       "    <tr>\n",
       "      <th>26</th>\n",
       "      <td>0.033747</td>\n",
       "      <td>0.991836</td>\n",
       "      <td>0.068216</td>\n",
       "      <td>0.9800</td>\n",
       "    </tr>\n",
       "    <tr>\n",
       "      <th>27</th>\n",
       "      <td>0.031732</td>\n",
       "      <td>0.992509</td>\n",
       "      <td>0.069573</td>\n",
       "      <td>0.9800</td>\n",
       "    </tr>\n",
       "    <tr>\n",
       "      <th>28</th>\n",
       "      <td>0.029877</td>\n",
       "      <td>0.993018</td>\n",
       "      <td>0.068384</td>\n",
       "      <td>0.9796</td>\n",
       "    </tr>\n",
       "    <tr>\n",
       "      <th>29</th>\n",
       "      <td>0.028229</td>\n",
       "      <td>0.993709</td>\n",
       "      <td>0.069479</td>\n",
       "      <td>0.9798</td>\n",
       "    </tr>\n",
       "  </tbody>\n",
       "</table>\n",
       "</div>\n",
       "      <button class=\"colab-df-convert\" onclick=\"convertToInteractive('df-a554531f-a79a-400c-ab2e-4e0843e3b6ee')\"\n",
       "              title=\"Convert this dataframe to an interactive table.\"\n",
       "              style=\"display:none;\">\n",
       "        \n",
       "  <svg xmlns=\"http://www.w3.org/2000/svg\" height=\"24px\"viewBox=\"0 0 24 24\"\n",
       "       width=\"24px\">\n",
       "    <path d=\"M0 0h24v24H0V0z\" fill=\"none\"/>\n",
       "    <path d=\"M18.56 5.44l.94 2.06.94-2.06 2.06-.94-2.06-.94-.94-2.06-.94 2.06-2.06.94zm-11 1L8.5 8.5l.94-2.06 2.06-.94-2.06-.94L8.5 2.5l-.94 2.06-2.06.94zm10 10l.94 2.06.94-2.06 2.06-.94-2.06-.94-.94-2.06-.94 2.06-2.06.94z\"/><path d=\"M17.41 7.96l-1.37-1.37c-.4-.4-.92-.59-1.43-.59-.52 0-1.04.2-1.43.59L10.3 9.45l-7.72 7.72c-.78.78-.78 2.05 0 2.83L4 21.41c.39.39.9.59 1.41.59.51 0 1.02-.2 1.41-.59l7.78-7.78 2.81-2.81c.8-.78.8-2.07 0-2.86zM5.41 20L4 18.59l7.72-7.72 1.47 1.35L5.41 20z\"/>\n",
       "  </svg>\n",
       "      </button>\n",
       "      \n",
       "  <style>\n",
       "    .colab-df-container {\n",
       "      display:flex;\n",
       "      flex-wrap:wrap;\n",
       "      gap: 12px;\n",
       "    }\n",
       "\n",
       "    .colab-df-convert {\n",
       "      background-color: #E8F0FE;\n",
       "      border: none;\n",
       "      border-radius: 50%;\n",
       "      cursor: pointer;\n",
       "      display: none;\n",
       "      fill: #1967D2;\n",
       "      height: 32px;\n",
       "      padding: 0 0 0 0;\n",
       "      width: 32px;\n",
       "    }\n",
       "\n",
       "    .colab-df-convert:hover {\n",
       "      background-color: #E2EBFA;\n",
       "      box-shadow: 0px 1px 2px rgba(60, 64, 67, 0.3), 0px 1px 3px 1px rgba(60, 64, 67, 0.15);\n",
       "      fill: #174EA6;\n",
       "    }\n",
       "\n",
       "    [theme=dark] .colab-df-convert {\n",
       "      background-color: #3B4455;\n",
       "      fill: #D2E3FC;\n",
       "    }\n",
       "\n",
       "    [theme=dark] .colab-df-convert:hover {\n",
       "      background-color: #434B5C;\n",
       "      box-shadow: 0px 1px 3px 1px rgba(0, 0, 0, 0.15);\n",
       "      filter: drop-shadow(0px 1px 2px rgba(0, 0, 0, 0.3));\n",
       "      fill: #FFFFFF;\n",
       "    }\n",
       "  </style>\n",
       "\n",
       "      <script>\n",
       "        const buttonEl =\n",
       "          document.querySelector('#df-a554531f-a79a-400c-ab2e-4e0843e3b6ee button.colab-df-convert');\n",
       "        buttonEl.style.display =\n",
       "          google.colab.kernel.accessAllowed ? 'block' : 'none';\n",
       "\n",
       "        async function convertToInteractive(key) {\n",
       "          const element = document.querySelector('#df-a554531f-a79a-400c-ab2e-4e0843e3b6ee');\n",
       "          const dataTable =\n",
       "            await google.colab.kernel.invokeFunction('convertToInteractive',\n",
       "                                                     [key], {});\n",
       "          if (!dataTable) return;\n",
       "\n",
       "          const docLinkHtml = 'Like what you see? Visit the ' +\n",
       "            '<a target=\"_blank\" href=https://colab.research.google.com/notebooks/data_table.ipynb>data table notebook</a>'\n",
       "            + ' to learn more about interactive tables.';\n",
       "          element.innerHTML = '';\n",
       "          dataTable['output_type'] = 'display_data';\n",
       "          await google.colab.output.renderOutput(dataTable, element);\n",
       "          const docLink = document.createElement('div');\n",
       "          docLink.innerHTML = docLinkHtml;\n",
       "          element.appendChild(docLink);\n",
       "        }\n",
       "      </script>\n",
       "    </div>\n",
       "  </div>\n",
       "  "
      ],
      "text/plain": [
       "        loss  accuracy  val_loss  val_accuracy\n",
       "0   0.625396  0.835527  0.306688        0.9140\n",
       "1   0.288295  0.917800  0.232617        0.9378\n",
       "2   0.233940  0.932927  0.201226        0.9462\n",
       "3   0.199117  0.943364  0.171262        0.9536\n",
       "4   0.173568  0.950655  0.161456        0.9580\n",
       "5   0.153724  0.956218  0.146324        0.9634\n",
       "6   0.137783  0.961491  0.129708        0.9652\n",
       "7   0.125027  0.965145  0.120291        0.9678\n",
       "8   0.114277  0.967891  0.114782        0.9698\n",
       "9   0.104565  0.970855  0.107756        0.9714\n",
       "10  0.096278  0.973691  0.101569        0.9746\n",
       "11  0.089273  0.974964  0.096375        0.9748\n",
       "12  0.082498  0.977091  0.093481        0.9754\n",
       "13  0.077130  0.978691  0.091943        0.9740\n",
       "14  0.071711  0.980073  0.092132        0.9740\n",
       "15  0.066957  0.981636  0.084657        0.9768\n",
       "16  0.062484  0.982764  0.083017        0.9772\n",
       "17  0.058617  0.983982  0.079501        0.9770\n",
       "18  0.054852  0.985527  0.080180        0.9768\n",
       "19  0.051738  0.986455  0.076560        0.9782\n",
       "20  0.048489  0.986800  0.075674        0.9796\n",
       "21  0.045616  0.988218  0.074857        0.9764\n",
       "22  0.042767  0.989236  0.073091        0.9768\n",
       "23  0.040361  0.989927  0.071077        0.9782\n",
       "24  0.038162  0.990236  0.072599        0.9786\n",
       "25  0.035776  0.991455  0.070628        0.9794\n",
       "26  0.033747  0.991836  0.068216        0.9800\n",
       "27  0.031732  0.992509  0.069573        0.9800\n",
       "28  0.029877  0.993018  0.068384        0.9796\n",
       "29  0.028229  0.993709  0.069479        0.9798"
      ]
     },
     "execution_count": 35,
     "metadata": {},
     "output_type": "execute_result"
    }
   ],
   "source": [
    "data = pd.DataFrame(history.history)\n",
    "data"
   ]
  },
  {
   "cell_type": "code",
   "execution_count": 36,
   "metadata": {
    "colab": {
     "base_uri": "https://localhost:8080/",
     "height": 324
    },
    "executionInfo": {
     "elapsed": 991,
     "status": "ok",
     "timestamp": 1646035959566,
     "user": {
      "displayName": "Fazlullah Bokhari",
      "photoUrl": "https://lh3.googleusercontent.com/a-/AOh14Gipq_QgeUq_pWM5JfrIi8EPz81aivJwQNauOq0I1w=s64",
      "userId": "18027421437445643378"
     },
     "user_tz": -330
    },
    "id": "m22U55U-IGBg",
    "outputId": "12f8b977-a3a7-47f5-b84d-2de3581598b8"
   },
   "outputs": [
    {
     "data": {
      "image/png": "[encoded data removed]",
      "text/plain": [
       "<Figure size 576x360 with 1 Axes>"
      ]
     },
     "metadata": {
      "needs_background": "light"
     },
     "output_type": "display_data"
    }
   ],
   "source": [
    "data.plot(figsize=(8,5))\n",
    "plt.grid(True)\n",
    "plt.gca().set_ylim(0,1)\n",
    "plt.show()"
   ]
  },
  {
   "cell_type": "code",
   "execution_count": 37,
   "metadata": {
    "colab": {
     "base_uri": "https://localhost:8080/"
    },
    "executionInfo": {
     "elapsed": 28,
     "status": "ok",
     "timestamp": 1646035959568,
     "user": {
      "displayName": "Fazlullah Bokhari",
      "photoUrl": "https://lh3.googleusercontent.com/a-/AOh14Gipq_QgeUq_pWM5JfrIi8EPz81aivJwQNauOq0I1w=s64",
      "userId": "18027421437445643378"
     },
     "user_tz": -330
    },
    "id": "_UCLlzCiIZGP",
    "outputId": "047dd521-ba62-43e7-ac70-dc2502681634"
   },
   "outputs": [
    {
     "data": {
      "text/plain": [
       "array([[2.7854071e-06, 3.3795109e-07, 1.6272343e-05, 1.0226271e-03,\n",
       "        1.7228349e-08, 6.2701884e-07, 2.5143006e-11, 9.9887079e-01,\n",
       "        2.4093395e-06, 8.4187501e-05],\n",
       "       [6.6835069e-06, 2.2815907e-04, 9.9961770e-01, 9.0381160e-05,\n",
       "        4.7621202e-11, 9.5299885e-07, 3.7079742e-06, 5.7668141e-12,\n",
       "        5.2463478e-05, 3.1105188e-11],\n",
       "       [3.8767603e-06, 9.9691427e-01, 2.0347524e-04, 8.3366736e-05,\n",
       "        4.0083620e-04, 7.2821953e-05, 3.3860091e-05, 8.6402986e-04,\n",
       "        1.3982649e-03, 2.5088471e-05]], dtype=float32)"
      ]
     },
     "execution_count": 37,
     "metadata": {},
     "output_type": "execute_result"
    }
   ],
   "source": [
    "X_new = X_test[:3]\n",
    "\n",
    "y_proba = model.predict(X_new)\n",
    "y_proba"
   ]
  },
  {
   "cell_type": "code",
   "execution_count": 38,
   "metadata": {
    "colab": {
     "base_uri": "https://localhost:8080/"
    },
    "executionInfo": {
     "elapsed": 25,
     "status": "ok",
     "timestamp": 1646035959569,
     "user": {
      "displayName": "Fazlullah Bokhari",
      "photoUrl": "https://lh3.googleusercontent.com/a-/AOh14Gipq_QgeUq_pWM5JfrIi8EPz81aivJwQNauOq0I1w=s64",
      "userId": "18027421437445643378"
     },
     "user_tz": -330
    },
    "id": "pRSkN758JcXg",
    "outputId": "9d405f0c-034b-4c60-c071-23ba6604a6e6"
   },
   "outputs": [
    {
     "data": {
      "text/plain": [
       "array([[0., 0., 0., 0., 0., 0., 0., 1., 0., 0.],\n",
       "       [0., 0., 1., 0., 0., 0., 0., 0., 0., 0.],\n",
       "       [0., 1., 0., 0., 0., 0., 0., 0., 0., 0.]], dtype=float32)"
      ]
     },
     "execution_count": 38,
     "metadata": {},
     "output_type": "execute_result"
    }
   ],
   "source": [
    "y_proba.round(2)"
   ]
  },
  {
   "cell_type": "code",
   "execution_count": 39,
   "metadata": {
    "colab": {
     "base_uri": "https://localhost:8080/"
    },
    "executionInfo": {
     "elapsed": 24,
     "status": "ok",
     "timestamp": 1646035959570,
     "user": {
      "displayName": "Fazlullah Bokhari",
      "photoUrl": "https://lh3.googleusercontent.com/a-/AOh14Gipq_QgeUq_pWM5JfrIi8EPz81aivJwQNauOq0I1w=s64",
      "userId": "18027421437445643378"
     },
     "user_tz": -330
    },
    "id": "Pxz9n6bKJk6l",
    "outputId": "89ec6536-8f42-42f6-f622-efcbdbad02d9"
   },
   "outputs": [
    {
     "data": {
      "text/plain": [
       "array([7, 2, 1])"
      ]
     },
     "execution_count": 39,
     "metadata": {},
     "output_type": "execute_result"
    }
   ],
   "source": [
    "y_pred = np.argmax(model.predict(X_new), axis=-1)\n",
    "y_pred"
   ]
  },
  {
   "cell_type": "code",
   "execution_count": 40,
   "metadata": {
    "colab": {
     "base_uri": "https://localhost:8080/"
    },
    "executionInfo": {
     "elapsed": 21,
     "status": "ok",
     "timestamp": 1646035959571,
     "user": {
      "displayName": "Fazlullah Bokhari",
      "photoUrl": "https://lh3.googleusercontent.com/a-/AOh14Gipq_QgeUq_pWM5JfrIi8EPz81aivJwQNauOq0I1w=s64",
      "userId": "18027421437445643378"
     },
     "user_tz": -330
    },
    "id": "wB22R7KyJz5R",
    "outputId": "fc26e016-362f-4e41-b877-a5efb72b6385"
   },
   "outputs": [
    {
     "data": {
      "text/plain": [
       "array([7, 2, 1], dtype=uint8)"
      ]
     },
     "execution_count": 40,
     "metadata": {},
     "output_type": "execute_result"
    }
   ],
   "source": [
    "y_new = y_test[:3]\n",
    "y_new"
   ]
  },
  {
   "cell_type": "code",
   "execution_count": 41,
   "metadata": {
    "colab": {
     "base_uri": "https://localhost:8080/",
     "height": 810
    },
    "executionInfo": {
     "elapsed": 20,
     "status": "ok",
     "timestamp": 1646035959572,
     "user": {
      "displayName": "Fazlullah Bokhari",
      "photoUrl": "https://lh3.googleusercontent.com/a-/AOh14Gipq_QgeUq_pWM5JfrIi8EPz81aivJwQNauOq0I1w=s64",
      "userId": "18027421437445643378"
     },
     "user_tz": -330
    },
    "id": "lFqvT-uaKED1",
    "outputId": "95a02ca3-cd5a-4187-a040-443b25093008"
   },
   "outputs": [
    {
     "data": {
      "image/png": "[encoded data removed]",
      "text/plain": [
       "<Figure size 432x288 with 1 Axes>"
      ]
     },
     "metadata": {
      "needs_background": "light"
     },
     "output_type": "display_data"
    },
    {
     "name": "stdout",
     "output_type": "stream",
     "text": [
      "----------------------------------------------------------------------------------------------------------------------------------------------------------------\n"
     ]
    },
    {
     "data": {
      "image/png": "[encoded data removed]",
      "text/plain": [
       "<Figure size 432x288 with 1 Axes>"
      ]
     },
     "metadata": {
      "needs_background": "light"
     },
     "output_type": "display_data"
    },
    {
     "name": "stdout",
     "output_type": "stream",
     "text": [
      "----------------------------------------------------------------------------------------------------------------------------------------------------------------\n"
     ]
    },
    {
     "data": {
      "image/png": "[encoded data removed]",
      "text/plain": [
       "<Figure size 432x288 with 1 Axes>"
      ]
     },
     "metadata": {
      "needs_background": "light"
     },
     "output_type": "display_data"
    },
    {
     "name": "stdout",
     "output_type": "stream",
     "text": [
      "----------------------------------------------------------------------------------------------------------------------------------------------------------------\n"
     ]
    }
   ],
   "source": [
    "for data, pred, actual in zip(X_new, y_pred, y_new):\n",
    "  plt.imshow(data, cmap=\"binary\")\n",
    "  plt.title(f\"Predicted: {pred}, Avtual: {actual}\")\n",
    "  plt.axis(\"off\")\n",
    "  plt.show()\n",
    "  print(\"--------\"*20)"
   ]
  },
  {
   "cell_type": "code",
   "execution_count": 41,
   "metadata": {
    "executionInfo": {
     "elapsed": 20,
     "status": "ok",
     "timestamp": 1646035959574,
     "user": {
      "displayName": "Fazlullah Bokhari",
      "photoUrl": "https://lh3.googleusercontent.com/a-/AOh14Gipq_QgeUq_pWM5JfrIi8EPz81aivJwQNauOq0I1w=s64",
      "userId": "18027421437445643378"
     },
     "user_tz": -330
    },
    "id": "Rz6XASRbKyiH"
   },
   "outputs": [],
   "source": []
  }
 ],
 "metadata": {
  "accelerator": "GPU",
  "colab": {
   "authorship_tag": "ABX9TyPwcY4MHekMxzB/ddJcr1cY",
   "mount_file_id": "1ZpasB-mN-jcIoNBvFpm_RLIqxX0zLZGT",
   "name": "Deep Learning.ipynb",
   "provenance": []
  },
  "kernelspec": {
   "display_name": "Python 3",
   "language": "python",
   "name": "python3"
  },
  "language_info": {
   "codemirror_mode": {
    "name": "ipython",
    "version": 3
   },
   "file_extension": ".py",
   "mimetype": "text/x-python",
   "name": "python",
   "nbconvert_exporter": "python",
   "pygments_lexer": "ipython3",
   "version": "3.6.13"
  }
 },
 "nbformat": 4,
 "nbformat_minor": 1
}
