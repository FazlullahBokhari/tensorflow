{
 "cells": [
  {
   "cell_type": "code",
   "execution_count": 35,
   "id": "b80d823f",
   "metadata": {},
   "outputs": [],
   "source": [
    "import tensorflow as tf"
   ]
  },
  {
   "cell_type": "code",
   "execution_count": 36,
   "id": "fb3be5b5",
   "metadata": {},
   "outputs": [
    {
     "data": {
      "text/plain": [
       "'1.14.0'"
      ]
     },
     "execution_count": 36,
     "metadata": {},
     "output_type": "execute_result"
    }
   ],
   "source": [
    "tf.__version__"
   ]
  },
  {
   "cell_type": "code",
   "execution_count": 5,
   "id": "47365528",
   "metadata": {},
   "outputs": [
    {
     "data": {
      "text/plain": [
       "<tf.Tensor 'Const:0' shape=() dtype=string>"
      ]
     },
     "execution_count": 5,
     "metadata": {},
     "output_type": "execute_result"
    }
   ],
   "source": [
    "hello_constant = tf.constant(\"Hello World\")\n",
    "hello_constant"
   ]
  },
  {
   "cell_type": "code",
   "execution_count": 6,
   "id": "1b79c513",
   "metadata": {},
   "outputs": [
    {
     "name": "stdout",
     "output_type": "stream",
     "text": [
      "b'Hello World'\n"
     ]
    }
   ],
   "source": [
    "hello_constant = tf.constant(\"Hello World\")\n",
    "\n",
    "with tf.Session() as sess:\n",
    "    output = sess.run(hello_constant)\n",
    "    print(output)"
   ]
  },
  {
   "cell_type": "code",
   "execution_count": 7,
   "id": "dea892e5",
   "metadata": {},
   "outputs": [],
   "source": [
    "A = tf.constant(1234) # 0 dimensional \n",
    "\n",
    "B = tf.constant([123,456,789]) # 1 dimensional\n",
    "\n",
    "C = tf.constant([[123,456,789],[222,333,444]]) # 2 dimensional"
   ]
  },
  {
   "cell_type": "code",
   "execution_count": 8,
   "id": "135d317a",
   "metadata": {},
   "outputs": [
    {
     "name": "stdout",
     "output_type": "stream",
     "text": [
      "[[123 456 789]\n",
      " [222 333 444]]\n"
     ]
    }
   ],
   "source": [
    "with tf.Session() as sess:\n",
    "    output = sess.run(C)\n",
    "    print(output)"
   ]
  },
  {
   "cell_type": "code",
   "execution_count": 10,
   "id": "b6f6f003",
   "metadata": {},
   "outputs": [
    {
     "name": "stdout",
     "output_type": "stream",
     "text": [
      "Hello World\n"
     ]
    }
   ],
   "source": [
    "x = tf.placeholder(tf.string)\n",
    "\n",
    "with tf.Session() as sess:\n",
    "    output = sess.run(x, feed_dict={x: 'Hello World'})\n",
    "    print(output)"
   ]
  },
  {
   "cell_type": "code",
   "execution_count": 12,
   "id": "f5689b49",
   "metadata": {},
   "outputs": [
    {
     "name": "stdout",
     "output_type": "stream",
     "text": [
      "123456\n"
     ]
    }
   ],
   "source": [
    "x = tf.placeholder(tf.int64)\n",
    "\n",
    "with tf.Session() as sess:\n",
    "    output = sess.run(x, feed_dict={x: 123456})\n",
    "    print(output)"
   ]
  },
  {
   "cell_type": "code",
   "execution_count": 20,
   "id": "158b95cc",
   "metadata": {},
   "outputs": [
    {
     "name": "stdout",
     "output_type": "stream",
     "text": [
      "Fazlullah\n",
      "123\n",
      "45.25\n"
     ]
    }
   ],
   "source": [
    "a = tf.placeholder(tf.string)\n",
    "b = tf.placeholder(tf.int64)\n",
    "c = tf.placeholder(tf.float64)\n",
    "l = [a,b,c]\n",
    "with tf.Session() as sess:\n",
    "    for i in l:\n",
    "        output_i = sess.run(i,feed_dict={a:\"Fazlullah\", b:123, c:45.25})\n",
    "        print(output_i)\n",
    "    #output_x = sess.run(a,feed_dict={a:\"Fazlullah\", b:123, c:45.25})\n",
    "    #output_y = sess.run(b,feed_dict={a:\"Fazlullah\", b:123, c:45.25})\n",
    "    #output_z = sess.run(c,feed_dict={a:\"Fazlullah\", b:123, c:45.25})\n",
    "    #print(output_x)\n",
    "    #print(output_y)\n",
    "    #print(output_z)"
   ]
  },
  {
   "cell_type": "code",
   "execution_count": 27,
   "id": "3e7845d5",
   "metadata": {},
   "outputs": [
    {
     "name": "stdout",
     "output_type": "stream",
     "text": [
      "7\n"
     ]
    }
   ],
   "source": [
    "x = tf.add(5,2)\n",
    "with tf.Session() as sess:\n",
    "    output_x = sess.run(x)\n",
    "    print(output_x)"
   ]
  },
  {
   "cell_type": "code",
   "execution_count": 28,
   "id": "0b9bbb7f",
   "metadata": {},
   "outputs": [
    {
     "name": "stdout",
     "output_type": "stream",
     "text": [
      "20\n"
     ]
    }
   ],
   "source": [
    "y = tf.multiply(4,5)\n",
    "\n",
    "with tf.Session() as sess:\n",
    "    output = sess.run(y)\n",
    "    print(output)"
   ]
  },
  {
   "cell_type": "code",
   "execution_count": 29,
   "id": "f5b929a1",
   "metadata": {},
   "outputs": [
    {
     "data": {
      "text/plain": [
       "1.0"
      ]
     },
     "execution_count": 29,
     "metadata": {},
     "output_type": "execute_result"
    }
   ],
   "source": [
    "2.0-1"
   ]
  },
  {
   "cell_type": "code",
   "execution_count": 30,
   "id": "dba1b0ee",
   "metadata": {},
   "outputs": [
    {
     "ename": "TypeError",
     "evalue": "Expected int32 passed to parameter 'y' of op 'Sub', got 7.0 of type 'float' instead. Error: Expected int32, got 7.0 of type 'float' instead.",
     "output_type": "error",
     "traceback": [
      "\u001b[1;31m---------------------------------------------------------------------------\u001b[0m",
      "\u001b[1;31mTypeError\u001b[0m                                 Traceback (most recent call last)",
      "\u001b[1;32m~\\anaconda3\\envs\\oneX\\lib\\site-packages\\tensorflow\\python\\framework\\op_def_library.py\u001b[0m in \u001b[0;36m_apply_op_helper\u001b[1;34m(self, op_type_name, name, **keywords)\u001b[0m\n\u001b[0;32m    526\u001b[0m                 \u001b[0mas_ref\u001b[0m\u001b[1;33m=\u001b[0m\u001b[0minput_arg\u001b[0m\u001b[1;33m.\u001b[0m\u001b[0mis_ref\u001b[0m\u001b[1;33m,\u001b[0m\u001b[1;33m\u001b[0m\u001b[1;33m\u001b[0m\u001b[0m\n\u001b[1;32m--> 527\u001b[1;33m                 preferred_dtype=default_dtype)\n\u001b[0m\u001b[0;32m    528\u001b[0m           \u001b[1;32mexcept\u001b[0m \u001b[0mTypeError\u001b[0m \u001b[1;32mas\u001b[0m \u001b[0merr\u001b[0m\u001b[1;33m:\u001b[0m\u001b[1;33m\u001b[0m\u001b[1;33m\u001b[0m\u001b[0m\n",
      "\u001b[1;32m~\\anaconda3\\envs\\oneX\\lib\\site-packages\\tensorflow\\python\\framework\\ops.py\u001b[0m in \u001b[0;36minternal_convert_to_tensor\u001b[1;34m(value, dtype, name, as_ref, preferred_dtype, ctx, accept_symbolic_tensors, accept_composite_tensors)\u001b[0m\n\u001b[0;32m   1223\u001b[0m     \u001b[1;32mif\u001b[0m \u001b[0mret\u001b[0m \u001b[1;32mis\u001b[0m \u001b[1;32mNone\u001b[0m\u001b[1;33m:\u001b[0m\u001b[1;33m\u001b[0m\u001b[1;33m\u001b[0m\u001b[0m\n\u001b[1;32m-> 1224\u001b[1;33m       \u001b[0mret\u001b[0m \u001b[1;33m=\u001b[0m \u001b[0mconversion_func\u001b[0m\u001b[1;33m(\u001b[0m\u001b[0mvalue\u001b[0m\u001b[1;33m,\u001b[0m \u001b[0mdtype\u001b[0m\u001b[1;33m=\u001b[0m\u001b[0mdtype\u001b[0m\u001b[1;33m,\u001b[0m \u001b[0mname\u001b[0m\u001b[1;33m=\u001b[0m\u001b[0mname\u001b[0m\u001b[1;33m,\u001b[0m \u001b[0mas_ref\u001b[0m\u001b[1;33m=\u001b[0m\u001b[0mas_ref\u001b[0m\u001b[1;33m)\u001b[0m\u001b[1;33m\u001b[0m\u001b[1;33m\u001b[0m\u001b[0m\n\u001b[0m\u001b[0;32m   1225\u001b[0m \u001b[1;33m\u001b[0m\u001b[0m\n",
      "\u001b[1;32m~\\anaconda3\\envs\\oneX\\lib\\site-packages\\tensorflow\\python\\framework\\constant_op.py\u001b[0m in \u001b[0;36m_constant_tensor_conversion_function\u001b[1;34m(v, dtype, name, as_ref)\u001b[0m\n\u001b[0;32m    304\u001b[0m   \u001b[0m_\u001b[0m \u001b[1;33m=\u001b[0m \u001b[0mas_ref\u001b[0m\u001b[1;33m\u001b[0m\u001b[1;33m\u001b[0m\u001b[0m\n\u001b[1;32m--> 305\u001b[1;33m   \u001b[1;32mreturn\u001b[0m \u001b[0mconstant\u001b[0m\u001b[1;33m(\u001b[0m\u001b[0mv\u001b[0m\u001b[1;33m,\u001b[0m \u001b[0mdtype\u001b[0m\u001b[1;33m=\u001b[0m\u001b[0mdtype\u001b[0m\u001b[1;33m,\u001b[0m \u001b[0mname\u001b[0m\u001b[1;33m=\u001b[0m\u001b[0mname\u001b[0m\u001b[1;33m)\u001b[0m\u001b[1;33m\u001b[0m\u001b[1;33m\u001b[0m\u001b[0m\n\u001b[0m\u001b[0;32m    306\u001b[0m \u001b[1;33m\u001b[0m\u001b[0m\n",
      "\u001b[1;32m~\\anaconda3\\envs\\oneX\\lib\\site-packages\\tensorflow\\python\\framework\\constant_op.py\u001b[0m in \u001b[0;36mconstant\u001b[1;34m(value, dtype, shape, name)\u001b[0m\n\u001b[0;32m    245\u001b[0m   return _constant_impl(value, dtype, shape, name, verify_shape=False,\n\u001b[1;32m--> 246\u001b[1;33m                         allow_broadcast=True)\n\u001b[0m\u001b[0;32m    247\u001b[0m \u001b[1;33m\u001b[0m\u001b[0m\n",
      "\u001b[1;32m~\\anaconda3\\envs\\oneX\\lib\\site-packages\\tensorflow\\python\\framework\\constant_op.py\u001b[0m in \u001b[0;36m_constant_impl\u001b[1;34m(value, dtype, shape, name, verify_shape, allow_broadcast)\u001b[0m\n\u001b[0;32m    283\u001b[0m           \u001b[0mvalue\u001b[0m\u001b[1;33m,\u001b[0m \u001b[0mdtype\u001b[0m\u001b[1;33m=\u001b[0m\u001b[0mdtype\u001b[0m\u001b[1;33m,\u001b[0m \u001b[0mshape\u001b[0m\u001b[1;33m=\u001b[0m\u001b[0mshape\u001b[0m\u001b[1;33m,\u001b[0m \u001b[0mverify_shape\u001b[0m\u001b[1;33m=\u001b[0m\u001b[0mverify_shape\u001b[0m\u001b[1;33m,\u001b[0m\u001b[1;33m\u001b[0m\u001b[1;33m\u001b[0m\u001b[0m\n\u001b[1;32m--> 284\u001b[1;33m           allow_broadcast=allow_broadcast))\n\u001b[0m\u001b[0;32m    285\u001b[0m   \u001b[0mdtype_value\u001b[0m \u001b[1;33m=\u001b[0m \u001b[0mattr_value_pb2\u001b[0m\u001b[1;33m.\u001b[0m\u001b[0mAttrValue\u001b[0m\u001b[1;33m(\u001b[0m\u001b[0mtype\u001b[0m\u001b[1;33m=\u001b[0m\u001b[0mtensor_value\u001b[0m\u001b[1;33m.\u001b[0m\u001b[0mtensor\u001b[0m\u001b[1;33m.\u001b[0m\u001b[0mdtype\u001b[0m\u001b[1;33m)\u001b[0m\u001b[1;33m\u001b[0m\u001b[1;33m\u001b[0m\u001b[0m\n",
      "\u001b[1;32m~\\anaconda3\\envs\\oneX\\lib\\site-packages\\tensorflow\\python\\framework\\tensor_util.py\u001b[0m in \u001b[0;36mmake_tensor_proto\u001b[1;34m(values, dtype, shape, verify_shape, allow_broadcast)\u001b[0m\n\u001b[0;32m    465\u001b[0m     \u001b[1;32melse\u001b[0m\u001b[1;33m:\u001b[0m\u001b[1;33m\u001b[0m\u001b[1;33m\u001b[0m\u001b[0m\n\u001b[1;32m--> 466\u001b[1;33m       \u001b[0m_AssertCompatible\u001b[0m\u001b[1;33m(\u001b[0m\u001b[0mvalues\u001b[0m\u001b[1;33m,\u001b[0m \u001b[0mdtype\u001b[0m\u001b[1;33m)\u001b[0m\u001b[1;33m\u001b[0m\u001b[1;33m\u001b[0m\u001b[0m\n\u001b[0m\u001b[0;32m    467\u001b[0m       \u001b[0mnparray\u001b[0m \u001b[1;33m=\u001b[0m \u001b[0mnp\u001b[0m\u001b[1;33m.\u001b[0m\u001b[0marray\u001b[0m\u001b[1;33m(\u001b[0m\u001b[0mvalues\u001b[0m\u001b[1;33m,\u001b[0m \u001b[0mdtype\u001b[0m\u001b[1;33m=\u001b[0m\u001b[0mnp_dt\u001b[0m\u001b[1;33m)\u001b[0m\u001b[1;33m\u001b[0m\u001b[1;33m\u001b[0m\u001b[0m\n",
      "\u001b[1;32m~\\anaconda3\\envs\\oneX\\lib\\site-packages\\tensorflow\\python\\framework\\tensor_util.py\u001b[0m in \u001b[0;36m_AssertCompatible\u001b[1;34m(values, dtype)\u001b[0m\n\u001b[0;32m    370\u001b[0m       raise TypeError(\"Expected %s, got %s of type '%s' instead.\" %\n\u001b[1;32m--> 371\u001b[1;33m                       (dtype.name, repr(mismatch), type(mismatch).__name__))\n\u001b[0m\u001b[0;32m    372\u001b[0m \u001b[1;33m\u001b[0m\u001b[0m\n",
      "\u001b[1;31mTypeError\u001b[0m: Expected int32, got 7.0 of type 'float' instead.",
      "\nDuring handling of the above exception, another exception occurred:\n",
      "\u001b[1;31mTypeError\u001b[0m                                 Traceback (most recent call last)",
      "\u001b[1;32m<ipython-input-30-e297ee2efa43>\u001b[0m in \u001b[0;36m<module>\u001b[1;34m\u001b[0m\n\u001b[1;32m----> 1\u001b[1;33m \u001b[0mtf\u001b[0m\u001b[1;33m.\u001b[0m\u001b[0msubtract\u001b[0m\u001b[1;33m(\u001b[0m\u001b[1;36m6\u001b[0m\u001b[1;33m,\u001b[0m\u001b[1;36m7.0\u001b[0m\u001b[1;33m)\u001b[0m\u001b[1;33m\u001b[0m\u001b[1;33m\u001b[0m\u001b[0m\n\u001b[0m",
      "\u001b[1;32m~\\anaconda3\\envs\\oneX\\lib\\site-packages\\tensorflow\\python\\util\\dispatch.py\u001b[0m in \u001b[0;36mwrapper\u001b[1;34m(*args, **kwargs)\u001b[0m\n\u001b[0;32m    178\u001b[0m     \u001b[1;34m\"\"\"Call target, and fall back on dispatchers if there is a TypeError.\"\"\"\u001b[0m\u001b[1;33m\u001b[0m\u001b[1;33m\u001b[0m\u001b[0m\n\u001b[0;32m    179\u001b[0m     \u001b[1;32mtry\u001b[0m\u001b[1;33m:\u001b[0m\u001b[1;33m\u001b[0m\u001b[1;33m\u001b[0m\u001b[0m\n\u001b[1;32m--> 180\u001b[1;33m       \u001b[1;32mreturn\u001b[0m \u001b[0mtarget\u001b[0m\u001b[1;33m(\u001b[0m\u001b[1;33m*\u001b[0m\u001b[0margs\u001b[0m\u001b[1;33m,\u001b[0m \u001b[1;33m**\u001b[0m\u001b[0mkwargs\u001b[0m\u001b[1;33m)\u001b[0m\u001b[1;33m\u001b[0m\u001b[1;33m\u001b[0m\u001b[0m\n\u001b[0m\u001b[0;32m    181\u001b[0m     \u001b[1;32mexcept\u001b[0m \u001b[1;33m(\u001b[0m\u001b[0mTypeError\u001b[0m\u001b[1;33m,\u001b[0m \u001b[0mValueError\u001b[0m\u001b[1;33m)\u001b[0m\u001b[1;33m:\u001b[0m\u001b[1;33m\u001b[0m\u001b[1;33m\u001b[0m\u001b[0m\n\u001b[0;32m    182\u001b[0m       \u001b[1;31m# Note: convert_to_eager_tensor currently raises a ValueError, not a\u001b[0m\u001b[1;33m\u001b[0m\u001b[1;33m\u001b[0m\u001b[1;33m\u001b[0m\u001b[0m\n",
      "\u001b[1;32m~\\anaconda3\\envs\\oneX\\lib\\site-packages\\tensorflow\\python\\ops\\math_ops.py\u001b[0m in \u001b[0;36msubtract\u001b[1;34m(x, y, name)\u001b[0m\n\u001b[0;32m    341\u001b[0m \u001b[1;33m@\u001b[0m\u001b[0mdispatch\u001b[0m\u001b[1;33m.\u001b[0m\u001b[0madd_dispatch_support\u001b[0m\u001b[1;33m\u001b[0m\u001b[1;33m\u001b[0m\u001b[0m\n\u001b[0;32m    342\u001b[0m \u001b[1;32mdef\u001b[0m \u001b[0msubtract\u001b[0m\u001b[1;33m(\u001b[0m\u001b[0mx\u001b[0m\u001b[1;33m,\u001b[0m \u001b[0my\u001b[0m\u001b[1;33m,\u001b[0m \u001b[0mname\u001b[0m\u001b[1;33m=\u001b[0m\u001b[1;32mNone\u001b[0m\u001b[1;33m)\u001b[0m\u001b[1;33m:\u001b[0m\u001b[1;33m\u001b[0m\u001b[1;33m\u001b[0m\u001b[0m\n\u001b[1;32m--> 343\u001b[1;33m   \u001b[1;32mreturn\u001b[0m \u001b[0mgen_math_ops\u001b[0m\u001b[1;33m.\u001b[0m\u001b[0msub\u001b[0m\u001b[1;33m(\u001b[0m\u001b[0mx\u001b[0m\u001b[1;33m,\u001b[0m \u001b[0my\u001b[0m\u001b[1;33m,\u001b[0m \u001b[0mname\u001b[0m\u001b[1;33m)\u001b[0m\u001b[1;33m\u001b[0m\u001b[1;33m\u001b[0m\u001b[0m\n\u001b[0m\u001b[0;32m    344\u001b[0m \u001b[1;33m\u001b[0m\u001b[0m\n\u001b[0;32m    345\u001b[0m \u001b[1;33m\u001b[0m\u001b[0m\n",
      "\u001b[1;32m~\\anaconda3\\envs\\oneX\\lib\\site-packages\\tensorflow\\python\\ops\\gen_math_ops.py\u001b[0m in \u001b[0;36msub\u001b[1;34m(x, y, name)\u001b[0m\n\u001b[0;32m  10852\u001b[0m   \u001b[1;31m# Add nodes to the TensorFlow graph.\u001b[0m\u001b[1;33m\u001b[0m\u001b[1;33m\u001b[0m\u001b[1;33m\u001b[0m\u001b[0m\n\u001b[0;32m  10853\u001b[0m   _, _, _op = _op_def_lib._apply_op_helper(\n\u001b[1;32m> 10854\u001b[1;33m         \"Sub\", x=x, y=y, name=name)\n\u001b[0m\u001b[0;32m  10855\u001b[0m   \u001b[0m_result\u001b[0m \u001b[1;33m=\u001b[0m \u001b[0m_op\u001b[0m\u001b[1;33m.\u001b[0m\u001b[0moutputs\u001b[0m\u001b[1;33m[\u001b[0m\u001b[1;33m:\u001b[0m\u001b[1;33m]\u001b[0m\u001b[1;33m\u001b[0m\u001b[1;33m\u001b[0m\u001b[0m\n\u001b[0;32m  10856\u001b[0m   \u001b[0m_inputs_flat\u001b[0m \u001b[1;33m=\u001b[0m \u001b[0m_op\u001b[0m\u001b[1;33m.\u001b[0m\u001b[0minputs\u001b[0m\u001b[1;33m\u001b[0m\u001b[1;33m\u001b[0m\u001b[0m\n",
      "\u001b[1;32m~\\anaconda3\\envs\\oneX\\lib\\site-packages\\tensorflow\\python\\framework\\op_def_library.py\u001b[0m in \u001b[0;36m_apply_op_helper\u001b[1;34m(self, op_type_name, name, **keywords)\u001b[0m\n\u001b[0;32m    534\u001b[0m                   \u001b[1;34m\"type '%s' instead. Error: %s\"\u001b[0m \u001b[1;33m%\u001b[0m\u001b[1;33m\u001b[0m\u001b[1;33m\u001b[0m\u001b[0m\n\u001b[0;32m    535\u001b[0m                   (dtypes.as_dtype(dtype).name, input_arg.name, op_type_name,\n\u001b[1;32m--> 536\u001b[1;33m                    repr(values), type(values).__name__, err))\n\u001b[0m\u001b[0;32m    537\u001b[0m           \u001b[1;32mexcept\u001b[0m \u001b[0mValueError\u001b[0m\u001b[1;33m:\u001b[0m\u001b[1;33m\u001b[0m\u001b[1;33m\u001b[0m\u001b[0m\n\u001b[0;32m    538\u001b[0m             \u001b[1;31m# What type does convert_to_tensor think it has?\u001b[0m\u001b[1;33m\u001b[0m\u001b[1;33m\u001b[0m\u001b[1;33m\u001b[0m\u001b[0m\n",
      "\u001b[1;31mTypeError\u001b[0m: Expected int32 passed to parameter 'y' of op 'Sub', got 7.0 of type 'float' instead. Error: Expected int32, got 7.0 of type 'float' instead."
     ]
    }
   ],
   "source": [
    "tf.subtract(6,7.0)"
   ]
  },
  {
   "cell_type": "code",
   "execution_count": 40,
   "id": "e3d6edfb",
   "metadata": {},
   "outputs": [
    {
     "data": {
      "text/plain": [
       "<tf.Tensor 'Sub_6:0' shape=() dtype=int32>"
      ]
     },
     "execution_count": 40,
     "metadata": {},
     "output_type": "execute_result"
    }
   ],
   "source": [
    "tf.subtract(tf.cast(tf.constant(4.0),tf.int32),tf.constant(2))"
   ]
  },
  {
   "cell_type": "code",
   "execution_count": 37,
   "id": "cd2a1490",
   "metadata": {},
   "outputs": [
    {
     "name": "stdout",
     "output_type": "stream",
     "text": [
      "2\n"
     ]
    }
   ],
   "source": [
    "a = tf.subtract(4,2)\n",
    "\n",
    "with tf.Session() as sess:\n",
    "    result = sess.run(a)\n",
    "    print(result)"
   ]
  },
  {
   "cell_type": "code",
   "execution_count": 42,
   "id": "8f89deda",
   "metadata": {},
   "outputs": [
    {
     "name": "stdout",
     "output_type": "stream",
     "text": [
      "4.0\n"
     ]
    }
   ],
   "source": [
    "x = tf.constant(10)\n",
    "y = tf.constant(2)\n",
    "z = tf.subtract(tf.divide(x,y),1)\n",
    "\n",
    "with tf.Session() as sess:\n",
    "    result = sess.run(z)\n",
    "    print(result)"
   ]
  },
  {
   "cell_type": "code",
   "execution_count": 45,
   "id": "9c8b4905",
   "metadata": {},
   "outputs": [],
   "source": [
    "x = tf.Variable(5)\n",
    "init = tf.global_variables_initializer()\n",
    "\n",
    "with tf.Session() as sess:\n",
    "    sess.run(init)\n",
    "    sess.run(x)"
   ]
  },
  {
   "cell_type": "code",
   "execution_count": 48,
   "id": "c2598365",
   "metadata": {},
   "outputs": [],
   "source": [
    "n_feature = 120\n",
    "n_label = 5\n",
    "weight = tf.Variable(tf.truncated_normal((n_feature,n_label)))"
   ]
  },
  {
   "cell_type": "code",
   "execution_count": 51,
   "id": "d0da03a7",
   "metadata": {},
   "outputs": [
    {
     "name": "stdout",
     "output_type": "stream",
     "text": [
      "[[-1.78229046e+00  7.12373316e-01  9.50152203e-02  7.72950530e-01\n",
      "   1.42679811e+00]\n",
      " [-1.69060993e+00 -1.07432187e+00  1.31375387e-01  1.55565882e+00\n",
      "  -8.38330626e-01]\n",
      " [-1.38872671e+00  1.00698388e+00  6.36212081e-02 -8.23399484e-01\n",
      "   1.23199493e-01]\n",
      " [-1.68869233e+00 -5.01301944e-01 -4.76493835e-01  7.72438705e-01\n",
      "  -9.06099021e-01]\n",
      " [-9.77450132e-01 -1.68816626e+00 -6.12826645e-02  1.17692135e-01\n",
      "   8.32875192e-01]\n",
      " [ 4.78412896e-01 -1.28392208e+00  3.28687072e-01  4.31022644e-01\n",
      "   3.57631415e-01]\n",
      " [-1.92399651e-01  2.58629955e-02  8.87870669e-01  1.85272828e-01\n",
      "   6.92378581e-02]\n",
      " [ 5.63624263e-01  2.36344576e-01 -4.29307260e-02 -1.03830588e+00\n",
      "   7.69200027e-01]\n",
      " [ 1.79546848e-01 -1.28406942e+00  1.71832228e+00 -6.11271486e-02\n",
      "   5.54938376e-01]\n",
      " [ 1.58209288e+00 -5.88896453e-01 -5.11873960e-01 -4.13597465e-01\n",
      "  -1.16800451e+00]\n",
      " [ 6.55374229e-01 -3.93907763e-02  2.98953444e-01  3.07605207e-01\n",
      "  -4.11301970e-01]\n",
      " [-6.55502751e-02  1.74232399e+00  1.03857160e+00  9.17126954e-01\n",
      "   2.18736142e-01]\n",
      " [ 5.93018353e-01 -8.38850319e-01 -1.33430219e+00 -1.86781716e-02\n",
      "   3.35901886e-01]\n",
      " [-8.29591691e-01  5.10438740e-01  1.00925732e+00  5.55671215e-01\n",
      "   3.88335705e-01]\n",
      " [-7.27450252e-02 -3.22800040e-01 -1.50125057e-01 -9.68990147e-01\n",
      "   5.27704775e-01]\n",
      " [ 1.11251962e+00  9.21387851e-01  1.62843311e+00 -1.30897188e+00\n",
      "  -7.12238789e-01]\n",
      " [ 2.73821622e-01 -3.75538141e-01  1.47752452e+00  3.09463870e-02\n",
      "   2.10742131e-01]\n",
      " [-1.07127678e+00  2.05248877e-01 -1.52697551e+00 -2.20230520e-01\n",
      "  -1.97339225e+00]\n",
      " [ 7.81263828e-01 -1.29956067e+00  2.72675753e-01 -6.01651706e-02\n",
      "   1.54630852e+00]\n",
      " [ 9.09269810e-01 -1.54595983e+00 -2.79667228e-01 -5.76860309e-01\n",
      "   1.68404549e-01]\n",
      " [ 5.27690411e-01 -5.47102809e-01  2.52413779e-01  1.14341187e+00\n",
      "   1.59896575e-02]\n",
      " [ 1.08146989e+00 -1.43059635e+00  4.67871159e-01 -5.64526953e-02\n",
      "   1.39891610e-01]\n",
      " [ 2.67059952e-01  1.58774066e+00 -4.10415649e-01  3.22026312e-01\n",
      "  -2.63831645e-01]\n",
      " [-8.84691298e-01  5.02065063e-01  1.12293708e+00  6.45727292e-02\n",
      "   3.00347984e-01]\n",
      " [ 1.56834292e+00 -8.57717097e-01  6.03454113e-01 -7.09227741e-01\n",
      "  -1.44810569e+00]\n",
      " [-9.65107858e-01  1.87392011e-01 -3.24085265e-01 -7.31343389e-01\n",
      "  -7.99467683e-01]\n",
      " [ 5.93499362e-01  4.73132342e-01  2.69303322e-01 -1.94868565e-01\n",
      "   2.35894054e-01]\n",
      " [ 1.61301136e+00 -7.87654705e-03 -2.59815305e-01  5.23912907e-01\n",
      "   1.07893503e+00]\n",
      " [ 7.26315141e-01 -1.49293661e+00 -1.78813696e-01 -3.03224802e-01\n",
      "  -8.84389758e-01]\n",
      " [ 1.47651792e+00  9.46793139e-01  2.91442424e-01  5.30432582e-01\n",
      "  -7.98894405e-01]\n",
      " [-5.84399223e-01 -6.14546061e-01  1.19178295e+00 -1.26793766e+00\n",
      "  -6.12063289e-01]\n",
      " [ 1.17777085e+00  2.29414985e-01 -2.34378636e-01  1.03140724e+00\n",
      "  -4.59540159e-01]\n",
      " [ 1.07982945e+00 -7.52518415e-01  2.28257447e-01  2.99291581e-01\n",
      "  -6.42853618e-01]\n",
      " [-5.55812180e-01  1.89141870e+00 -2.61652768e-01  2.87288874e-01\n",
      "  -1.94259822e+00]\n",
      " [ 6.18058264e-01 -2.33586580e-01  9.20766294e-02  1.35507762e-01\n",
      "  -1.32250059e+00]\n",
      " [ 4.19050097e-01  7.84864351e-02  4.61544245e-01  5.03688693e-01\n",
      "  -1.56876695e+00]\n",
      " [ 9.44437385e-01  7.12968111e-01  1.14795007e-01  1.37849951e+00\n",
      "   1.45551646e+00]\n",
      " [-7.02972591e-01 -1.68013781e-01  6.96138918e-01  6.14310801e-01\n",
      "   1.07694376e+00]\n",
      " [-9.09129456e-02 -6.62412226e-01  4.18173432e-01 -5.00830293e-01\n",
      "   8.24737921e-02]\n",
      " [-4.01514024e-02 -8.54568958e-01  2.70203829e-01 -8.60423744e-02\n",
      "  -5.25068939e-01]\n",
      " [ 3.72655898e-01  7.87244916e-01  7.61749804e-01 -5.07402837e-01\n",
      "   1.06308281e+00]\n",
      " [ 3.52945566e-01  2.60708798e-02  8.18401635e-01  1.41131902e+00\n",
      "   1.27969161e-01]\n",
      " [-3.49986821e-01  2.22828344e-01 -6.87880039e-01  5.77095807e-01\n",
      "   1.51414859e+00]\n",
      " [ 8.09205532e-01  1.23046589e+00 -2.41336286e-01  1.97424567e+00\n",
      "   1.26471519e-01]\n",
      " [ 1.25857818e+00 -5.07475674e-01 -1.10769045e+00 -5.99606276e-01\n",
      "  -4.42714542e-02]\n",
      " [-6.61514342e-01  1.03353608e+00 -9.98793781e-01 -1.94546446e-01\n",
      "  -3.74776185e-01]\n",
      " [-7.61768818e-01 -4.91736889e-01 -1.23863012e-01  9.75639641e-01\n",
      "  -1.34249961e+00]\n",
      " [ 6.47474825e-01 -4.42490429e-01  2.60003656e-01 -3.13929111e-01\n",
      "   1.46418139e-01]\n",
      " [ 1.24949202e-01 -4.95603144e-01  4.26738188e-02 -1.23800576e+00\n",
      "  -3.77292037e-02]\n",
      " [-5.03413200e-01  8.72809291e-01 -2.20801905e-01  4.48905379e-01\n",
      "   1.77000090e-01]\n",
      " [ 4.06696498e-01  1.31053627e+00 -5.86832047e-01 -5.96840024e-01\n",
      "   9.17416632e-01]\n",
      " [-6.29568040e-01  2.18321070e-01  1.51158497e-01 -2.03434929e-01\n",
      "   1.75116372e+00]\n",
      " [-1.72200000e+00  1.74124017e-01  1.83158994e+00 -1.89549670e-01\n",
      "   9.26779509e-01]\n",
      " [ 1.17067352e-01 -8.28701079e-01  1.42291725e-01 -1.41685688e+00\n",
      "  -2.72227734e-01]\n",
      " [-4.12166156e-02 -9.81202602e-01 -8.31864536e-01 -4.12613243e-01\n",
      "  -3.37974936e-01]\n",
      " [ 5.00259340e-01 -1.03236103e+00 -5.55986285e-01 -7.52734601e-01\n",
      "   1.45490813e+00]\n",
      " [-4.02400136e-01 -6.18334971e-02  6.04220927e-01 -1.40459001e+00\n",
      "   3.48694354e-01]\n",
      " [ 1.30908167e+00  5.22197366e-01  7.82264113e-01  6.92832887e-01\n",
      "   4.38179970e-01]\n",
      " [ 3.98925990e-01  1.69775951e+00 -9.26786542e-01 -2.55377948e-01\n",
      "  -1.33304620e+00]\n",
      " [ 1.87347388e+00 -2.45448723e-01  4.69124287e-01  8.86092722e-01\n",
      "  -2.36618280e-01]\n",
      " [ 3.03740948e-01 -9.79513824e-01  3.95532936e-01 -2.76048839e-01\n",
      "  -9.25447494e-02]\n",
      " [-4.24269676e-01 -6.26555979e-02  1.92815974e-01 -7.08550215e-01\n",
      "   2.79638082e-01]\n",
      " [ 5.79785824e-01 -5.58608174e-01  7.42799699e-01 -9.78063762e-01\n",
      "   4.42549109e-01]\n",
      " [ 7.76783645e-01 -3.92792016e-01  9.17302310e-01 -1.42414916e+00\n",
      "   4.48013186e-01]\n",
      " [-1.46857440e+00  1.23614907e+00  2.52675325e-01  9.49748904e-02\n",
      "  -2.43642271e-01]\n",
      " [ 1.83786583e+00  1.26704967e+00  5.24908789e-02  1.89424846e-02\n",
      "  -2.85061389e-01]\n",
      " [ 1.12842572e+00  5.96593142e-01  9.70205218e-02  4.14516062e-01\n",
      "   9.93461370e-01]\n",
      " [-8.12758803e-01 -3.32480371e-01 -1.56044030e+00 -5.41883826e-01\n",
      "   1.39673018e+00]\n",
      " [-1.16246974e+00  1.77205980e+00 -1.03594410e+00  9.20591295e-01\n",
      "   2.75714904e-01]\n",
      " [-4.81539279e-01  7.96103537e-01 -1.10186589e+00 -8.38501036e-01\n",
      "  -1.81874430e+00]\n",
      " [-2.56276101e-01  1.61058342e+00 -1.22877288e+00 -1.17101443e+00\n",
      "  -6.50505960e-01]\n",
      " [-1.48197412e-01  5.20563066e-01  7.68410444e-01  9.50549722e-01\n",
      "  -9.65800762e-01]\n",
      " [-1.65262568e+00 -9.74450529e-01  7.77441263e-01  7.93439925e-01\n",
      "  -1.04300833e+00]\n",
      " [-1.09605575e+00 -1.53855264e+00  1.80166066e+00  2.25486591e-01\n",
      "  -6.16865382e-02]\n",
      " [-3.09768975e-01 -1.38676047e+00 -9.07721579e-01 -1.28654945e+00\n",
      "   4.99500215e-01]\n",
      " [-1.60279775e+00 -1.98301971e-01 -6.08767092e-01  1.31416786e+00\n",
      "   6.10116899e-01]\n",
      " [-1.25411106e-02 -5.20902932e-01 -4.08366978e-01 -5.84981561e-01\n",
      "   5.08601964e-01]\n",
      " [-1.63438320e+00 -1.85991609e+00  5.40852904e-01  1.73109666e-01\n",
      "   7.29647696e-01]\n",
      " [-1.66382897e+00  1.42478377e-01 -5.76390564e-01  1.91794717e+00\n",
      "  -8.87716472e-01]\n",
      " [ 7.69314468e-01  1.42117262e+00  4.89401251e-01  4.01784480e-01\n",
      "  -2.24051043e-01]\n",
      " [ 5.28093100e-01 -5.15035808e-01  1.47245407e+00 -1.05128527e+00\n",
      "  -1.05342209e+00]\n",
      " [ 3.52448970e-01 -2.75874346e-01  1.49627399e+00  1.49835005e-01\n",
      "   5.50455511e-01]\n",
      " [-2.14501724e-01  3.76522362e-01 -2.92402476e-01  2.75351619e-03\n",
      "   1.12584269e+00]\n",
      " [-7.05110669e-01  4.87911522e-01  2.50265338e-02  7.96114922e-01\n",
      "  -6.42502189e-01]\n",
      " [ 7.65984297e-01  8.13040584e-02 -1.18262839e+00 -8.39220166e-01\n",
      "   5.49759507e-01]\n",
      " [ 1.85240960e+00  1.35987854e+00  3.75062853e-01 -1.64380264e+00\n",
      "  -4.86126751e-01]\n",
      " [-9.20389235e-01 -6.76064014e-01  1.15568328e+00 -4.68998641e-01\n",
      "   4.33520973e-01]\n",
      " [-8.28708708e-01 -1.03889036e+00 -2.90320039e-01 -1.48171019e-02\n",
      "  -1.49948990e+00]\n",
      " [-5.03247321e-01  3.52019638e-01 -1.02239780e-01  3.60477805e-01\n",
      "  -5.01745082e-02]\n",
      " [ 1.18936606e-01 -3.83485943e-01 -8.01484644e-01 -3.95331085e-01\n",
      "   8.63200247e-01]\n",
      " [-5.33429921e-01  6.97174817e-02  1.38845170e+00  3.57789695e-01\n",
      "  -7.74326921e-02]\n",
      " [ 8.05479646e-01 -1.62295413e+00  6.83676779e-01 -3.54519367e-01\n",
      "   5.45022547e-01]\n",
      " [-7.71597385e-01  9.57671762e-01  1.58263910e+00  1.49506450e+00\n",
      "   8.41980934e-01]\n",
      " [-9.22103003e-02 -1.23202991e+00  5.07010818e-01 -7.59430453e-02\n",
      "   9.27350461e-01]\n",
      " [ 1.78809190e+00  1.04327250e+00  7.69704521e-01  1.02396142e-02\n",
      "   7.62896121e-01]\n",
      " [ 4.46074933e-01 -8.16555172e-02  1.81521758e-01 -1.38668156e+00\n",
      "  -1.05794775e+00]\n",
      " [ 6.03816092e-01  7.05968365e-02  5.61413288e-01 -3.97785962e-01\n",
      "   1.18257213e+00]\n",
      " [-1.84157774e-01 -2.57785589e-01  5.18753767e-01 -2.10927621e-01\n",
      "  -6.99505210e-01]\n",
      " [ 6.00759208e-01 -9.63670760e-02 -1.91217744e+00 -2.45346576e-01\n",
      "  -1.46323442e-03]\n",
      " [-4.18227583e-01  1.41682312e-01 -4.58036870e-01 -1.01071812e-01\n",
      "  -1.35613054e-01]\n",
      " [ 9.24325287e-01  1.57480216e+00  1.07086504e+00  7.82320499e-01\n",
      "  -1.14467907e+00]\n",
      " [ 1.78552657e-01  1.14851737e+00  3.69259059e-01  1.35280538e+00\n",
      "   1.04583275e+00]\n",
      " [ 7.73604870e-01 -1.19469130e+00 -1.03991711e+00 -5.74586809e-01\n",
      "  -3.46706122e-01]\n",
      " [-5.94142042e-02 -1.26103222e-01  4.64101076e-01 -1.15840673e+00\n",
      "   4.70531061e-02]\n",
      " [-1.96375430e-01  6.87114358e-01  5.15504479e-02 -2.55077961e-03\n",
      "  -4.74822372e-01]\n",
      " [ 3.86278868e-01 -7.80450180e-02 -1.34553865e-01  1.19884169e+00\n",
      "   4.36459869e-01]\n",
      " [-5.43996990e-01  3.33107382e-01 -2.07284302e-01  7.54104435e-01\n",
      "  -1.11884224e+00]\n",
      " [-4.14236933e-01 -8.88643920e-01 -2.48927340e-01  2.09669769e-01\n",
      "   1.87262014e-01]\n",
      " [ 5.87687016e-01  9.59320590e-02  3.55566323e-01 -8.00679147e-01\n",
      "   9.42717135e-01]\n",
      " [ 1.09882140e+00  4.01157767e-01 -8.63011837e-01 -9.44299459e-01\n",
      "   7.04289317e-01]\n",
      " [ 2.82325625e-01  1.33227682e+00 -6.97369158e-01 -6.66360676e-01\n",
      "   3.58362347e-01]\n",
      " [-5.14693856e-01  1.27751446e+00  5.77733517e-01 -5.02629392e-02\n",
      "  -5.95039725e-01]\n",
      " [-1.03939986e+00 -1.46269274e+00 -1.04896784e+00  1.92569733e-01\n",
      "   5.84939837e-01]\n",
      " [-4.57942814e-01  6.72303200e-01 -5.60930371e-01  1.55960664e-01\n",
      "  -1.56443387e-01]\n",
      " [ 3.04182529e-01 -5.06196082e-01  3.57636124e-01 -5.11043251e-01\n",
      "  -4.74811047e-01]\n",
      " [ 6.53138578e-01 -4.82520998e-01  1.20601916e+00 -2.13579953e-01\n",
      "  -1.05891275e+00]\n",
      " [ 2.69952238e-01 -3.49352896e-01 -1.18354344e+00 -1.02014959e+00\n",
      "  -1.15357888e+00]\n",
      " [-4.27500606e-01 -7.59670258e-01  3.68620425e-01 -6.84997976e-01\n",
      "  -6.27180278e-01]\n",
      " [-1.12900305e+00 -4.89206940e-01 -1.02694499e+00  1.05320108e+00\n",
      "   6.19668424e-01]\n",
      " [ 1.25020528e+00  1.05891454e+00  1.89232737e-01  1.35198832e+00\n",
      "  -1.22936644e-01]]\n"
     ]
    }
   ],
   "source": [
    "init = tf.global_variables_initializer()\n",
    "\n",
    "with tf.Session() as sess:\n",
    "    sess.run(init)\n",
    "    o = sess.run(tf.truncated_normal((n_feature,n_label)))\n",
    "    print(o)"
   ]
  },
  {
   "cell_type": "code",
   "execution_count": 58,
   "id": "e0c59b26",
   "metadata": {},
   "outputs": [
    {
     "data": {
      "text/plain": [
       "array([[0., 0., 0.],\n",
       "       [0., 0., 0.],\n",
       "       [0., 0., 0.],\n",
       "       [0., 0., 0.],\n",
       "       [0., 0., 0.]])"
      ]
     },
     "execution_count": 58,
     "metadata": {},
     "output_type": "execute_result"
    }
   ],
   "source": [
    "import numpy as np\n",
    "np.zeros([5,3])"
   ]
  },
  {
   "cell_type": "code",
   "execution_count": 63,
   "id": "8b685eb9",
   "metadata": {},
   "outputs": [],
   "source": [
    "n_label = 5\n",
    "bias = tf.Variable(tf.zeros(n_label))"
   ]
  },
  {
   "cell_type": "code",
   "execution_count": 65,
   "id": "e9aab70e",
   "metadata": {},
   "outputs": [
    {
     "name": "stdout",
     "output_type": "stream",
     "text": [
      "[0.65223986 0.23994564 0.10781453]\n"
     ]
    }
   ],
   "source": [
    "x = tf.nn.softmax([2.0,1.0,0.2])\n",
    "\n",
    "with tf.Session() as sess:\n",
    "    o = sess.run(x)\n",
    "    print(o)"
   ]
  },
  {
   "cell_type": "code",
   "execution_count": 66,
   "id": "fbcc8fe3",
   "metadata": {},
   "outputs": [
    {
     "name": "stdout",
     "output_type": "stream",
     "text": [
      "[0.6590012  0.24243298 0.09856589]\n"
     ]
    }
   ],
   "source": [
    "def run_2():\n",
    "    output = None\n",
    "    logit_data = [2.0,1.0,0.1]\n",
    "    logits = tf.placeholder(tf.float32)\n",
    "    \n",
    "    softmax = tf.nn.softmax(logit_data)\n",
    "    \n",
    "    with tf.Session() as sess:\n",
    "        output = sess.run(softmax, feed_dict={logits:logit_data})\n",
    "        \n",
    "    return output\n",
    "\n",
    "print(run_2())"
   ]
  },
  {
   "cell_type": "code",
   "execution_count": 67,
   "id": "a9eab22e",
   "metadata": {},
   "outputs": [
    {
     "name": "stdout",
     "output_type": "stream",
     "text": [
      "15\n"
     ]
    }
   ],
   "source": [
    "x = tf.reduce_sum([1,2,3,4,5])\n",
    "\n",
    "with tf.Session() as sess:\n",
    "    o = sess.run(x)\n",
    "    print(o)"
   ]
  },
  {
   "cell_type": "code",
   "execution_count": 68,
   "id": "b1fff736",
   "metadata": {},
   "outputs": [
    {
     "name": "stdout",
     "output_type": "stream",
     "text": [
      "4.6051702\n"
     ]
    }
   ],
   "source": [
    "l = tf.log(100.0)\n",
    "\n",
    "with tf.Session() as sess:\n",
    "    o = sess.run(l)\n",
    "    print(o)"
   ]
  },
  {
   "cell_type": "code",
   "execution_count": 69,
   "id": "2857e3f3",
   "metadata": {},
   "outputs": [
    {
     "name": "stdout",
     "output_type": "stream",
     "text": [
      "0.35667497\n"
     ]
    }
   ],
   "source": [
    "softmax_data = [0.7,0.2,0.1]\n",
    "one_hot_data = [1.0,0.0,0.0]\n",
    "\n",
    "softmax = tf.placeholder(tf.float32)\n",
    "one_hot = tf.placeholder(tf.float32)\n",
    "\n",
    "cross_entropy = -tf.reduce_sum(tf.multiply(one_hot_data,tf.log(softmax_data)))\n",
    "\n",
    "with tf.Session() as sess:\n",
    "    result = sess.run(cross_entropy, feed_dict={one_hot:one_hot_data, softmax:softmax_data})\n",
    "    print(result)"
   ]
  },
  {
   "cell_type": "code",
   "execution_count": null,
   "id": "f42fc75c",
   "metadata": {},
   "outputs": [],
   "source": []
  }
 ],
 "metadata": {
  "kernelspec": {
   "display_name": "Python 3",
   "language": "python",
   "name": "python3"
  },
  "language_info": {
   "codemirror_mode": {
    "name": "ipython",
    "version": 3
   },
   "file_extension": ".py",
   "mimetype": "text/x-python",
   "name": "python",
   "nbconvert_exporter": "python",
   "pygments_lexer": "ipython3",
   "version": "3.6.13"
  }
 },
 "nbformat": 4,
 "nbformat_minor": 5
}
